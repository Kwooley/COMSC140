{
 "cells": [
  {
   "cell_type": "markdown",
   "metadata": {},
   "source": [
    "## Chapter 3. Decision Structures and Boolean Logic\n",
    "<li> 3.1 The if Statement </li>\n",
    "<li> 3.2 The if-else Statement </li>\n",
    "<li> 3.3 Comparing Strings </li>\n",
    "<li> 3.4 Nested Decision Structures and the if-elif-else Statement </li>\n",
    "<li> 3.5 Logical Operators </li>\n",
    "<li> 3.6 Boolean Variables </li>"
   ]
  },
  {
   "cell_type": "markdown",
   "metadata": {},
   "source": [
    "\n",
    "### <a href=\"https://docs.python.org/3/reference/compound_stmts.html#the-if-statement\"> Python Document \n",
    "<img src =\"https://p76.f0.n0.cdn.getcloudapp.com/items/RBuymyQx/5b9e398d-9339-47e9-b7cc-3de7e83dee6f.jpg?v=b1c31360e564f178e39a3d7373b6979b\"> </a>"
   ]
  },
  {
   "cell_type": "markdown",
   "metadata": {},
   "source": [
    "<a href=\"https://docs.python.org/3/tutorial/controlflow.html#if-statements\"> <img src=\"https://p76.f0.n0.cdn.getcloudapp.com/items/4guZrZo9/7293141a-5f3f-44bc-9e97-4586b89a63dc.jpg?v=09b11b0fee8688bd799c1f90a09f723f\"> </a>"
   ]
  },
  {
   "cell_type": "code",
   "execution_count": 7,
   "metadata": {},
   "outputs": [
    {
     "name": "stdout",
     "output_type": "stream",
     "text": [
      "The grade : A\n"
     ]
    }
   ],
   "source": [
    "# Take one user input \n",
    "# if it is even number, we aregoing to print\n",
    "# otherwise, do nothing\n",
    "\n",
    "score = input('Enter your score')\n",
    "score = int(score)\n",
    "if ( score > 90):\n",
    "\tprint (\"The grade : A\")\n",
    "elif ( score > 80) :   # (score < 90 ) and ( score >80)\n",
    "\tprint (\"The grade : B\")\n",
    "elif ( score > 70):   # (score < 80 ) and ( score >70)\n",
    "\tprint (\"The grade : C\")\n"
   ]
  },
  {
   "cell_type": "code",
   "execution_count": null,
   "metadata": {},
   "outputs": [],
   "source": [
    "if ( score > 90):\n",
    "\tprint (\"The grade : A\")\n",
    "else:\n",
    "\tif ( score > 80) :   # (score < 90 ) and ( score >80)\n",
    "\t\tprint (\"The grade : B\")\n",
    "\telif ( score > 70):   # (score < 80 ) and ( score >70)\n",
    "\t\tprint (\"The grade : C\")\n"
   ]
  },
  {
   "cell_type": "markdown",
   "metadata": {},
   "source": [
    "<p style=\"background-color: grey; color: white\"> Exercise 3</p>"
   ]
  },
  {
   "cell_type": "code",
   "execution_count": null,
   "metadata": {},
   "outputs": [],
   "source": [
    "x = int(input('Enter your coordinates for x'))\n",
    "y = int(input('Enter your coordinates for y'))\n",
    "\n",
    "if (x >0):\n",
    "\tif (y>0):\n",
    "\t\tprint( \" Quadrant 1\")\n",
    "\telse:\n",
    "\t\tprint( \" Quadrant 4\")\n",
    "else:\n",
    "\tif (y>0):\n",
    "\t\tprint( \" Quadrant 2\")\n",
    "\telse:\n",
    "\t\tprint( \" Quadrant 3\")\n",
    "\n"
   ]
  },
  {
   "cell_type": "markdown",
   "metadata": {},
   "source": [
    "<p style=\"background-color:grey; color:white\"> Exercise 7 </p>"
   ]
  },
  {
   "cell_type": "code",
   "execution_count": null,
   "metadata": {},
   "outputs": [],
   "source": [
    "num1 = int(input('Enter the number 1'))\n",
    "num2 = int(input('Enter the number 2'))\n",
    "num3 = int(input('Enter the number 3'))\n",
    "\n",
    "if (num1 > num2):\n",
    "\tif ( num1 > num3):\n",
    "\t\tprint(\"The greatest number is\", num1)\n",
    "\telse:\n",
    "\t\tprint(\"The greatest number is\", num3)\n",
    "else:\n",
    "\tif ( num2 > num3):\n",
    "\t\tprint(\"The greatest number is\", num2)\n",
    "\telse:\n",
    "\t\tprint(\"The greatest number is\", num3)\n"
   ]
  },
  {
   "cell_type": "markdown",
   "metadata": {},
   "source": [
    "<p style=\"background-color: grey; color: white\"> Exercise 8</p>"
   ]
  },
  {
   "cell_type": "code",
   "execution_count": null,
   "metadata": {},
   "outputs": [],
   "source": [
    "num1 = int(input('Enter the number 1'))\n",
    "num2 = int(input('Enter the number 2'))\n",
    "num3 = int(input('Enter the number 3'))\n",
    "\n",
    "if (num1 < num2):\n",
    "\tif ( num1 < num3):\n",
    "\t\tif ( num2  < num3):\n",
    "\t\t\tprint (num1, num2, num3)\n",
    "\t\telse:\t\n",
    "\t\t\tprint (num1, num3, num2)\n",
    "\telse:\n",
    "\t\tif ( num1  < num2):\n",
    "\t\t\tprint(num3, num1, num2)\n",
    "\t\telse:\n",
    "\t\t\tprint(num3, num2, num1)\n",
    "\n",
    "else:\n",
    "\tif ( num2 < num3):\n",
    "\t\tif (num1 < num3):\n",
    "\t\t\tprint (num2, num1, num3)\n",
    "\t\telse:\n",
    "\t\t\tprint (num2, num3, num1)\n",
    "\telse:\n",
    "\t\tif (num1 < num2):\n",
    "\t\t\tprint (num3, num1, num2)\n",
    "\t\telse:\n",
    "\t\t\tprint (num3, num2, num1)\n",
    "\t\t\n"
   ]
  },
  {
   "cell_type": "code",
   "execution_count": 1,
   "metadata": {},
   "outputs": [
    {
     "name": "stdout",
     "output_type": "stream",
     "text": [
      "More\n"
     ]
    }
   ],
   "source": [
    "x = int(input(\"Please enter an integer: \"))\n",
    "\n",
    "if x < 0:\n",
    "    x = 0\n",
    "    print('Negative changed to zero')\n",
    "elif x == 0:\n",
    "    print('Zero')\n",
    "elif x == 1:\n",
    "    print('Single')\n",
    "else:\n",
    "    print('More')"
   ]
  },
  {
   "cell_type": "markdown",
   "metadata": {},
   "source": [
    "### Boolean Expression and Relational Operators\n",
    "\n",
    "<img src=\"https://p76.f0.n0.cdn.getcloudapp.com/items/YEuBkB7B/d8fe2712-76cc-4478-bd79-7c9b8d8f5b4d.jpg?v=b1eec79ab236a39691d7f4df6a371842\">"
   ]
  },
  {
   "cell_type": "markdown",
   "metadata": {},
   "source": [
    "***\n",
    "## If - elif - else "
   ]
  },
  {
   "cell_type": "code",
   "execution_count": 4,
   "metadata": {},
   "outputs": [
    {
     "name": "stdout",
     "output_type": "stream",
     "text": [
      "The score  100  is great than 90\n"
     ]
    }
   ],
   "source": [
    "x = input(\"Enter your score\")\n",
    "\n",
    "if ( int(x) > 90):\n",
    "\tprint (\"The score \", x ,  \" is great than 90\")\n",
    "else:\n",
    "\tprint (\" The score \", x,  \"is less than or equal to 90\")\n"
   ]
  },
  {
   "cell_type": "code",
   "execution_count": 5,
   "metadata": {},
   "outputs": [
    {
     "name": "stdout",
     "output_type": "stream",
     "text": [
      "The score  95  is great than 90\n"
     ]
    }
   ],
   "source": [
    "x = input(\"Enter your score\")\n",
    "\n",
    "if ( int(x) > 90):\n",
    "\tprint (\"The score \", x ,  \" is great than 90\")\n",
    "elif( int(x) > 80):\n",
    "\tprint (\"The score \", x ,  \" is great than 80\")\n",
    "else:\n",
    "\tprint (\" The score \", x,  \"is less than or equal to 80\")\n"
   ]
  },
  {
   "cell_type": "markdown",
   "metadata": {},
   "source": [
    "### Short Hand if"
   ]
  },
  {
   "cell_type": "code",
   "execution_count": 7,
   "metadata": {},
   "outputs": [
    {
     "name": "stdout",
     "output_type": "stream",
     "text": [
      "100  is less than  90\n"
     ]
    }
   ],
   "source": [
    "score1 = 100\n",
    "score2 = 90\n",
    "\n",
    "if ( score1 > score2): print( score1, \" is less than \", score2)"
   ]
  },
  {
   "cell_type": "markdown",
   "metadata": {},
   "source": [
    "### Short Hand if else"
   ]
  },
  {
   "cell_type": "code",
   "execution_count": 9,
   "metadata": {},
   "outputs": [
    {
     "name": "stdout",
     "output_type": "stream",
     "text": [
      "100  is greater than 90\n"
     ]
    }
   ],
   "source": [
    "print (score2, \" is greater than \", score1) if ( score1 < score2) else print(score1, \" is greater than\", score2)"
   ]
  },
  {
   "cell_type": "code",
   "execution_count": 12,
   "metadata": {},
   "outputs": [],
   "source": [
    "# Error\n",
    "# print (score2, \" is greater than \", score1) if ( score1 < score2)"
   ]
  },
  {
   "cell_type": "code",
   "execution_count": 20,
   "metadata": {},
   "outputs": [
    {
     "name": "stdout",
     "output_type": "stream",
     "text": [
      "[2, 4]\n"
     ]
    }
   ],
   "source": [
    "l1 = [1,2,3,4,5]\n",
    "\n",
    "even = [ i for i in l1 if i % 2 ==0]\n",
    "print (even)"
   ]
  },
  {
   "cell_type": "markdown",
   "metadata": {},
   "source": [
    "### Logical Operators\n",
    "\n",
    "<img src=\"https://p76.f0.n0.cdn.getcloudapp.com/items/nOu9XRmk/fddfa174-c3fd-4a15-815c-513e0d162889.jpg?v=1d8df7291331860f72b8eaf47140b26c\">\n"
   ]
  },
  {
   "cell_type": "code",
   "execution_count": 21,
   "metadata": {},
   "outputs": [
    {
     "name": "stdout",
     "output_type": "stream",
     "text": [
      "Score is out of range\n"
     ]
    }
   ],
   "source": [
    "score = int(input(\"Enter your score\"))\n",
    "\n",
    "if ( score < 0 or score > 100):\n",
    "\tprint (\"Score is out of range\")\n",
    "\t"
   ]
  },
  {
   "cell_type": "code",
   "execution_count": 25,
   "metadata": {},
   "outputs": [
    {
     "name": "stdout",
     "output_type": "stream",
     "text": [
      "120  is less than 0 or greater than 100\n"
     ]
    }
   ],
   "source": [
    "# Take the score\n",
    "# Check the scoer is between 0 and 100\n",
    "#  \n",
    "score = int(input(\"Enter your score\"))\n",
    "if score >= 0 and score <= 100:\n",
    "\tprint (score, \" is between 0 and 100 \")\n",
    "else:\n",
    "\tprint (score, \" is less than 0 or greater than 100\")"
   ]
  },
  {
   "cell_type": "markdown",
   "metadata": {},
   "source": [
    "***\n",
    "## Nested-if statement"
   ]
  },
  {
   "cell_type": "markdown",
   "metadata": {},
   "source": [
    "<img src=\"https://nimbus-screenshots.s3.amazonaws.com/s/40f9cb96e28bea9192302328e49fd175.png\" width=720>"
   ]
  },
  {
   "cell_type": "code",
   "execution_count": 39,
   "metadata": {},
   "outputs": [
    {
     "name": "stdout",
     "output_type": "stream",
     "text": [
      "8\n",
      "8  is even number\n"
     ]
    }
   ],
   "source": [
    "import random\n",
    "\n",
    "number = random.randint(0, 100)\n",
    "print (number)\n",
    "\n",
    "if (number % 2 == 0):\n",
    "\tprint ( number, \" is even number\")\n",
    "else:\n",
    "\tprint ( number, \" is odd number\")"
   ]
  },
  {
   "cell_type": "code",
   "execution_count": 40,
   "metadata": {},
   "outputs": [
    {
     "name": "stdout",
     "output_type": "stream",
     "text": [
      "100  is greater thatn 100\n"
     ]
    }
   ],
   "source": [
    "\n",
    "usernum = int(input(\"Enter your number\"))\n",
    "\n",
    "if usernum < 50:\n",
    "\tprint (usernum, \" is less than 50\")\n",
    "else:\n",
    "\tif usernum < 100:\n",
    "\t\tprint (usernum, \" is greater than 49 and less than 100\")\n",
    "\telse:\n",
    "\t\tprint (usernum, \" is greater than or equal to 100\")\n",
    "\t\t"
   ]
  },
  {
   "cell_type": "markdown",
   "metadata": {},
   "source": [
    "***\n",
    "## Comparing Strings\n"
   ]
  },
  {
   "cell_type": "code",
   "execution_count": 41,
   "metadata": {},
   "outputs": [
    {
     "name": "stdout",
     "output_type": "stream",
     "text": [
      "Macy is less than Mary\n"
     ]
    }
   ],
   "source": [
    "name1 = 'Mary'\n",
    "name2 = 'Macy'\n",
    "\n",
    "if name1 < name2:\n",
    "\tprint (name1 + \" is less than \"+ name2)\n",
    "else:\n",
    "\tprint (name2 + \" is less than \"+ name1)\n",
    "\t\n"
   ]
  },
  {
   "cell_type": "code",
   "execution_count": null,
   "metadata": {},
   "outputs": [],
   "source": [
    "name1 = \"Mary\"\n",
    "name2 = \"Nancy\"\n",
    "\n",
    "if (name1 > name2):\n",
    "\tprint (\"same name\")\n",
    "else:\n",
    "\tprint (\"not same name\")\n"
   ]
  },
  {
   "cell_type": "markdown",
   "metadata": {},
   "source": [
    "### String Library Functions\n",
    "<a href=\"https://docs.python.org/3/library/string.html\"> Python Documents for String </a>\n",
    "\n",
    "\n",
    "\n",
    "<a href=\"https://docs.python.org/3/library/stdtypes.html#string-methods\"> String Methods \n",
    "<br>\n",
    "</a>\n",
    "<a href=\"https://www.w3schools.com/python/python_ref_string.asp\"> W3 School </a>\n",
    "\n",
    "<img src=\"https://nimbus-screenshots.s3.amazonaws.com/s/4ac262e3ba568032f7992d4556be2443.png\">\n",
    "\n"
   ]
  },
  {
   "cell_type": "code",
   "execution_count": 43,
   "metadata": {},
   "outputs": [
    {
     "data": {
      "text/plain": [
       "False"
      ]
     },
     "execution_count": 43,
     "metadata": {},
     "output_type": "execute_result"
    }
   ],
   "source": [
    "'BANANA'.isupper()\n",
    "\n",
    "'banana'.isupper()\n",
    "\n",
    "'baNana'.isupper()\n",
    "\n",
    "' '.isupper()"
   ]
  },
  {
   "cell_type": "code",
   "execution_count": 45,
   "metadata": {},
   "outputs": [
    {
     "data": {
      "text/plain": [
       "'three!'"
      ]
     },
     "execution_count": 45,
     "metadata": {},
     "output_type": "execute_result"
    }
   ],
   "source": [
    "\n",
    "'   spacious   '.lstrip()\n",
    "\n",
    "'www.example.com'.lstrip('cmowz.')\n",
    "\n",
    "'Arthur: three!'.lstrip('Arthur: ')\n",
    "\n",
    "'Arthur: three!'.removeprefix('Arthur: ')"
   ]
  },
  {
   "cell_type": "code",
   "execution_count": 5,
   "metadata": {},
   "outputs": [
    {
     "name": "stdout",
     "output_type": "stream",
     "text": [
      "name@company\n",
      "company.com\n",
      "name@company.com\n"
     ]
    }
   ],
   "source": [
    "email_str = \"name@company.com\"\n",
    "result1 = email_str.rstrip(\".com\" )\n",
    "result2 = email_str.lstrip(\"name@\")\n",
    "print (result1)\n",
    "print (result2)\n",
    "print (email_str)"
   ]
  },
  {
   "cell_type": "code",
   "execution_count": 10,
   "metadata": {},
   "outputs": [
    {
     "name": "stdout",
     "output_type": "stream",
     "text": [
      "4\n",
      "@c\n",
      "@company.com\n"
     ]
    }
   ],
   "source": [
    "email_str = \"name@company.com\"\n",
    "idx = email_str.find('@')\n",
    "print (idx)\n",
    "\n",
    "company_name = email_str[idx:len(email_str)]\n",
    "print (company_name)\n",
    "email_id = email_str[:idx]\n",
    "\n",
    "\n",
    "\n",
    "print (email_str[4:6])\n",
    "print (email_str[4:16])\n",
    "last_idx = len(email_str) \n",
    "print (email_str[4:last_idx])\n",
    "print (email_str[4:])\n"
   ]
  },
  {
   "cell_type": "code",
   "execution_count": 44,
   "metadata": {},
   "outputs": [
    {
     "data": {
      "text/plain": [
       "'Monty'"
      ]
     },
     "execution_count": 44,
     "metadata": {},
     "output_type": "execute_result"
    }
   ],
   "source": [
    "\n",
    "'   spacious   '.rstrip()\n",
    "\n",
    "'mississippi'.rstrip('ipz')\n",
    "\n",
    "'Monty Python'.rstrip(' Python')\n",
    "\n",
    "'Monty Python'.removesuffix(' Python')"
   ]
  },
  {
   "cell_type": "code",
   "execution_count": 46,
   "metadata": {},
   "outputs": [
    {
     "data": {
      "text/plain": [
       "'example'"
      ]
     },
     "execution_count": 46,
     "metadata": {},
     "output_type": "execute_result"
    }
   ],
   "source": [
    "\n",
    "\n",
    "'1,2,3'.split(',')\n",
    "\n",
    "'1,2,3'.split(',', maxsplit=1)\n",
    "\n",
    "'1,2,,3,'.split(',')\n",
    "\n",
    "'1 2 3'.split()\n",
    "\n",
    "'1 2 3'.split(maxsplit=1)\n",
    "\n",
    "'   1   2   3   '.split()\n",
    "\n",
    "'   spacious   '.strip()\n",
    "\n",
    "'www.example.com'.strip('cmowz.')\n",
    "\n"
   ]
  },
  {
   "cell_type": "code",
   "execution_count": 12,
   "metadata": {},
   "outputs": [
    {
     "name": "stdout",
     "output_type": "stream",
     "text": [
      "10 20\n",
      "10\n",
      "20\n"
     ]
    }
   ],
   "source": [
    "input_str = input('Enter two numbers')\n",
    "print (input_str)\n",
    "x,y = input_str.split() \n",
    "print (int(x))\n",
    "print (int(y))\n",
    "\n",
    "x,y = int(input('Enter two numbers').split())\n",
    "print (int(x))\n",
    "print (int(y))\n",
    "\n",
    "\n",
    "\n"
   ]
  },
  {
   "cell_type": "markdown",
   "metadata": {},
   "source": [
    "<a href=\"https://docs.python.org/3/library/string.html\">\n",
    "\n",
    "\n",
    "<img src=\"https://nimbus-screenshots.s3.amazonaws.com/s/ebc2ce4ebcd9fa90a90f988674b16c1f.png\">\n",
    "\n",
    "</a>"
   ]
  },
  {
   "cell_type": "markdown",
   "metadata": {},
   "source": [
    "### <mark style=\"background-color:grey; color:white\">Email Validation </mark>\n"
   ]
  },
  {
   "cell_type": "code",
   "execution_count": 2,
   "metadata": {},
   "outputs": [
    {
     "name": "stdout",
     "output_type": "stream",
     "text": [
      "Email address abc@com.net is valid\n"
     ]
    }
   ],
   "source": [
    "import sys\n",
    "\n",
    "email = input(\"Enter your email\")\n",
    "\n",
    "if (len(email) < 5 or len(email)>30):\n",
    "\tprint (\"Invalid length\")\n",
    "\tsys.exit(0)\n",
    "idx = email.find('@')\n",
    "if ( idx == -1):\n",
    "\tprint (\"No symbol @\")\n",
    "\tsys.exit(0)\n",
    "substr = email[idx:]\n",
    "if ( substr.find('.') == -1):\n",
    "\tprint (\"Invalid domain name\")\n",
    "\tsys.exit(0)\n",
    "\n",
    "if ( not (substr[0].isalpha()) ):\n",
    "\tprint (\"Invalid ID\")\n",
    "\tsys.exit(0)\n",
    "\n",
    "\n",
    "\n",
    "print (\"Email address {0} is valid\".format(email))\n"
   ]
  }
 ],
 "metadata": {
  "interpreter": {
   "hash": "a614fddea9d37e019a720cc724ab725ff28be4e0e64e91a691a8738e1909110d"
  },
  "kernelspec": {
   "display_name": "Python 3.9.7 64-bit ('base': conda)",
   "language": "python",
   "name": "python3"
  },
  "language_info": {
   "codemirror_mode": {
    "name": "ipython",
    "version": 3
   },
   "file_extension": ".py",
   "mimetype": "text/x-python",
   "name": "python",
   "nbconvert_exporter": "python",
   "pygments_lexer": "ipython3",
   "version": "3.9.7"
  },
  "orig_nbformat": 4
 },
 "nbformat": 4,
 "nbformat_minor": 2
}
