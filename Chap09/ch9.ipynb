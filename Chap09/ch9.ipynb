{
 "cells": [
  {
   "cell_type": "markdown",
   "metadata": {},
   "source": [
    "<style>\n",
    "\th1 {\n",
    "\t--\tbackground-color: grey;\n",
    "\t\tcolor: yellow\n",
    "\t\tborder: 3px solid grey\n",
    "\n",
    "\t}\n",
    "\tp {\n",
    "\t\tbackground-color: grey;\n",
    "\t\tcolor: white\n",
    "\t\tborder: 3px solid grey\n",
    "\n",
    "\t}\n",
    "</style>\n",
    "<h1> Chapter 9 Dictionary</h1>"
   ]
  },
  {
   "cell_type": "markdown",
   "metadata": {},
   "source": [
    "<style>\n",
    "\th1 {\n",
    "\t\tbackground-color: grey;\n",
    "\t\tcolor: Yellow;\n",
    "\t\tborder: 3px solid grey;\n",
    "\t\tfont-size: xx-large; \n",
    "\t}\n",
    "\tp {\n",
    "\t\tbackground-color: grey;\n",
    "\t\tcolor: white;\n",
    "\t\tborder: 3px solid grey;\n",
    "\t}\n",
    "</style>\n",
    "<h1> Ditionary </h1>\n",
    "\n"
   ]
  },
  {
   "cell_type": "code",
   "execution_count": 5,
   "metadata": {},
   "outputs": [
    {
     "name": "stdout",
     "output_type": "stream",
     "text": [
      "{1: 'A', 2: 'B', 3: 'C'}\n",
      "A\n"
     ]
    },
    {
     "data": {
      "text/plain": [
       "'A'"
      ]
     },
     "execution_count": 5,
     "metadata": {},
     "output_type": "execute_result"
    }
   ],
   "source": [
    "dict1 = {1:'A', 2:'B', 3:'C'}\n",
    "\n",
    "print (dict1)\n",
    "print (dict1[1])"
   ]
  },
  {
   "cell_type": "code",
   "execution_count": 2,
   "metadata": {},
   "outputs": [
    {
     "name": "stdout",
     "output_type": "stream",
     "text": [
      "Key Error\n",
      "0 is not a key\n"
     ]
    }
   ],
   "source": [
    "try:\n",
    "\tdict1[0]\n",
    "except KeyError:\n",
    "\tprint (\"Key Error\")\n",
    "\n",
    "if 0 not in dict1:\n",
    "\tprint ('0 is not a key')\n",
    "\t"
   ]
  },
  {
   "cell_type": "markdown",
   "metadata": {},
   "source": [
    "### Delete an item"
   ]
  },
  {
   "cell_type": "code",
   "execution_count": 10,
   "metadata": {},
   "outputs": [
    {
     "name": "stdout",
     "output_type": "stream",
     "text": [
      "{2: 'B', 3: 'C'}\n"
     ]
    }
   ],
   "source": [
    "del dict1[1]\n",
    "print (dict1)"
   ]
  },
  {
   "cell_type": "markdown",
   "metadata": {},
   "source": [
    "### Delete an item by value"
   ]
  },
  {
   "cell_type": "code",
   "execution_count": 23,
   "metadata": {},
   "outputs": [
    {
     "name": "stdout",
     "output_type": "stream",
     "text": [
      "{1: 'A', 3: 'C'}\n"
     ]
    }
   ],
   "source": [
    "#delete an item that has the value 'B'\n",
    "\n",
    "for k, v in dict(dict1).items():\n",
    "\tif v == 'B':\n",
    "\t\tdel dict1[k]\n",
    "\n",
    "print (dict1)\n",
    "\n"
   ]
  },
  {
   "cell_type": "code",
   "execution_count": null,
   "metadata": {},
   "outputs": [],
   "source": [
    "## The reason to use dict(dict1)\n",
    "## copy the original dictionary to iterate.\n",
    "## Because the original dictionary will be changed during the iteration.\n",
    "\n",
    "dict2 = dict1 # not an deep copy. Shallow copy. It means \"Sharing the reference\"\n",
    "dict3 = dict(dict1) # deep-copy."
   ]
  },
  {
   "cell_type": "code",
   "execution_count": 20,
   "metadata": {},
   "outputs": [
    {
     "name": "stdout",
     "output_type": "stream",
     "text": [
      "{1: 'A', 3: 'C'}\n"
     ]
    }
   ],
   "source": [
    "dict1 = {1:'A', 2:'B', 3:'C'}\n",
    "\n",
    "dict1 = { key:value for key, value in dict1.items() if dict1[key] != 'B'}\n",
    "\n",
    "print (dict1)"
   ]
  },
  {
   "cell_type": "markdown",
   "metadata": {},
   "source": [
    "<p>&nbsp;</p>\n",
    "\n",
    "<ul>\n",
    "<li style=\"list-style-type:disc\"><span style=\"font-size:13pt\"><span style=\"font-family:Lato,sans-serif\"><span style=\"color:#595959\">Create a dictionary to manage the student&rsquo;s scores&nbsp;</span></span></span>\n",
    "\n",
    "<ul>\n",
    "\t<li style=\"list-style-type:circle\"><span style=\"font-size:11pt\"><span style=\"font-family:Lato,sans-serif\"><span style=\"color:#595959\">key : student&rsquo;s name</span></span></span></li>\n",
    "\t<li style=\"list-style-type:circle\"><span style=\"font-size:11pt\"><span style=\"font-family:Lato,sans-serif\"><span style=\"color:#595959\">value: list of scores</span></span></span></li>\n",
    "</ul>\n",
    "</li>\n",
    "</ul>\n",
    "\n",
    "<table cellspacing=\"0\" style=\"border-collapse:collapse; border:none; width:NaN\">\n",
    "\t<tbody>\n",
    "\t\t<tr>\n",
    "\t\t\t<td style=\"border-bottom:1px solid #9e9e9e; border-left:1px solid #9e9e9e; border-right:1px solid #9e9e9e; border-top:1px solid #9e9e9e; vertical-align:top\">\n",
    "\t\t\t<p style=\"text-align:center\"><span style=\"font-size:11pt\"><span style=\"font-family:Arial\"><span style=\"color:#000000\">Kim</span></span></span></p>\n",
    "\t\t\t</td>\n",
    "\t\t\t<td style=\"border-bottom:1px solid #9e9e9e; border-left:1px solid #9e9e9e; border-right:1px solid #9e9e9e; border-top:1px solid #9e9e9e; vertical-align:top\">\n",
    "\t\t\t<p style=\"text-align:center\"><span style=\"font-size:11pt\"><span style=\"font-family:Arial\"><span style=\"color:#000000\">100</span></span></span></p>\n",
    "\t\t\t</td>\n",
    "\t\t\t<td style=\"border-bottom:1px solid #9e9e9e; border-left:1px solid #9e9e9e; border-right:1px solid #9e9e9e; border-top:1px solid #9e9e9e; vertical-align:top\">\n",
    "\t\t\t<p style=\"text-align:center\"><span style=\"font-size:11pt\"><span style=\"font-family:Arial\"><span style=\"color:#000000\">80</span></span></span></p>\n",
    "\t\t\t</td>\n",
    "\t\t\t<td style=\"border-bottom:1px solid #9e9e9e; border-left:1px solid #9e9e9e; border-right:1px solid #9e9e9e; border-top:1px solid #9e9e9e; vertical-align:top\">\n",
    "\t\t\t<p style=\"text-align:center\"><span style=\"font-size:11pt\"><span style=\"font-family:Arial\"><span style=\"color:#000000\">70</span></span></span></p>\n",
    "\t\t\t</td>\n",
    "\t\t\t<td style=\"border-bottom:1px solid #9e9e9e; border-left:1px solid #9e9e9e; border-right:1px solid #9e9e9e; border-top:1px solid #9e9e9e; vertical-align:top\">\n",
    "\t\t\t<p style=\"text-align:center\"><span style=\"font-size:11pt\"><span style=\"font-family:Arial\"><span style=\"color:#000000\">60</span></span></span></p>\n",
    "\t\t\t</td>\n",
    "\t\t</tr>\n",
    "\t\t<tr>\n",
    "\t\t\t<td style=\"border-bottom:1px solid #9e9e9e; border-left:1px solid #9e9e9e; border-right:1px solid #9e9e9e; border-top:1px solid #9e9e9e; vertical-align:top\">\n",
    "\t\t\t<p style=\"text-align:center\"><span style=\"font-size:11pt\"><span style=\"font-family:Arial\"><span style=\"color:#000000\">Bill</span></span></span></p>\n",
    "\t\t\t</td>\n",
    "\t\t\t<td style=\"border-bottom:1px solid #9e9e9e; border-left:1px solid #9e9e9e; border-right:1px solid #9e9e9e; border-top:1px solid #9e9e9e; vertical-align:top\">\n",
    "\t\t\t<p style=\"text-align:center\"><span style=\"font-size:11pt\"><span style=\"font-family:Arial\"><span style=\"color:#000000\">100</span></span></span></p>\n",
    "\t\t\t</td>\n",
    "\t\t\t<td style=\"border-bottom:1px solid #9e9e9e; border-left:1px solid #9e9e9e; border-right:1px solid #9e9e9e; border-top:1px solid #9e9e9e; vertical-align:top\">\n",
    "\t\t\t<p style=\"text-align:center\"><span style=\"font-size:11pt\"><span style=\"font-family:Arial\"><span style=\"color:#000000\">90</span></span></span></p>\n",
    "\t\t\t</td>\n",
    "\t\t\t<td style=\"border-bottom:1px solid #9e9e9e; border-left:1px solid #9e9e9e; border-right:1px solid #9e9e9e; border-top:1px solid #9e9e9e; vertical-align:top\">\n",
    "\t\t\t<p style=\"text-align:center\"><span style=\"font-size:11pt\"><span style=\"font-family:Arial\"><span style=\"color:#000000\">80</span></span></span></p>\n",
    "\t\t\t</td>\n",
    "\t\t\t<td style=\"border-bottom:1px solid #9e9e9e; border-left:1px solid #9e9e9e; border-right:1px solid #9e9e9e; border-top:1px solid #9e9e9e; vertical-align:top\">\n",
    "\t\t\t<p style=\"text-align:center\"><span style=\"font-size:11pt\"><span style=\"font-family:Arial\"><span style=\"color:#000000\">60</span></span></span></p>\n",
    "\t\t\t</td>\n",
    "\t\t</tr>\n",
    "\t\t<tr>\n",
    "\t\t\t<td style=\"border-bottom:1px solid #9e9e9e; border-left:1px solid #9e9e9e; border-right:1px solid #9e9e9e; border-top:1px solid #9e9e9e; vertical-align:top\">\n",
    "\t\t\t<p style=\"text-align:center\"><span style=\"font-size:11pt\"><span style=\"font-family:Arial\"><span style=\"color:#000000\">Mary</span></span></span></p>\n",
    "\t\t\t</td>\n",
    "\t\t\t<td style=\"border-bottom:1px solid #9e9e9e; border-left:1px solid #9e9e9e; border-right:1px solid #9e9e9e; border-top:1px solid #9e9e9e; vertical-align:top\">\n",
    "\t\t\t<p style=\"text-align:center\"><span style=\"font-size:11pt\"><span style=\"font-family:Arial\"><span style=\"color:#000000\">90</span></span></span></p>\n",
    "\t\t\t</td>\n",
    "\t\t\t<td style=\"border-bottom:1px solid #9e9e9e; border-left:1px solid #9e9e9e; border-right:1px solid #9e9e9e; border-top:1px solid #9e9e9e; vertical-align:top\">\n",
    "\t\t\t<p style=\"text-align:center\"><span style=\"font-size:11pt\"><span style=\"font-family:Arial\"><span style=\"color:#000000\">80</span></span></span></p>\n",
    "\t\t\t</td>\n",
    "\t\t\t<td style=\"border-bottom:1px solid #9e9e9e; border-left:1px solid #9e9e9e; border-right:1px solid #9e9e9e; border-top:1px solid #9e9e9e; vertical-align:top\">\n",
    "\t\t\t<p style=\"text-align:center\"><span style=\"font-size:11pt\"><span style=\"font-family:Arial\"><span style=\"color:#000000\">70</span></span></span></p>\n",
    "\t\t\t</td>\n",
    "\t\t\t<td style=\"border-bottom:1px solid #9e9e9e; border-left:1px solid #9e9e9e; border-right:1px solid #9e9e9e; border-top:1px solid #9e9e9e; vertical-align:top\">\n",
    "\t\t\t<p style=\"text-align:center\"><span style=\"font-size:11pt\"><span style=\"font-family:Arial\"><span style=\"color:#000000\">100</span></span></span></p>\n",
    "\t\t\t</td>\n",
    "\t\t</tr>\n",
    "\t</tbody>\n",
    "</table>\n",
    "\n",
    "<p>&nbsp;</p>\n",
    "\n",
    "<ul>\n",
    "\t<li style=\"list-style-type:disc\"><span style=\"font-size:13pt\"><span style=\"font-family:Lato,sans-serif\"><span style=\"color:#595959\">Get the summation of kim&rsquo;s scores</span></span></span></li>\n",
    "\t<li style=\"list-style-type:disc\"><span style=\"font-size:13pt\"><span style=\"font-family:Lato,sans-serif\"><span style=\"color:#595959\">Get the lowest score of Mary&rsquo;s scores</span></span></span></li>\n",
    "</ul>\n"
   ]
  },
  {
   "cell_type": "code",
   "execution_count": 29,
   "metadata": {},
   "outputs": [
    {
     "name": "stdout",
     "output_type": "stream",
     "text": [
      "Student Kim's score summation 310\n",
      "Student Kim's lowest score 60\n"
     ]
    }
   ],
   "source": [
    "scores_record = { \t'Kim':[100,80,70,60],\n",
    "\t\t\t'Bill':[100,90,80,60],\n",
    "\t\t\t'Mary':[90,80,70,100]}\n",
    "\n",
    "sname = input('Enter the student name')\n",
    "try:\n",
    "\tscores = scores_record[sname]\n",
    "except KeyError:\n",
    "\tprint (\"Key Error\")\n",
    "else:\n",
    "\tprint (\"Student {0}'s score summation {1}\".format(sname, sum(scores)))\n",
    "\tprint (\"Student {0}'s lowest score {1}\".format(sname, min(scores)))\n",
    "\n"
   ]
  },
  {
   "cell_type": "markdown",
   "metadata": {},
   "source": [
    "## Mixing Data Type\n"
   ]
  },
  {
   "cell_type": "code",
   "execution_count": 31,
   "metadata": {},
   "outputs": [
    {
     "name": "stdout",
     "output_type": "stream",
     "text": [
      "{1: 100, 'Scores': [10, 20, 30], 'Name': 'Junior', 'Course': ['CS1', 'CS2', 'CS3']}\n"
     ]
    }
   ],
   "source": [
    "mdict1 = { 1:100, 'Scores':[10, 20, 30], 'Name':'Junior', 'Course':['CS1','CS2','CS3']}\n",
    "\n",
    "print (mdict1)"
   ]
  },
  {
   "cell_type": "markdown",
   "metadata": {},
   "source": [
    "## Iterate over a dictionary"
   ]
  },
  {
   "cell_type": "code",
   "execution_count": 33,
   "metadata": {},
   "outputs": [
    {
     "name": "stdout",
     "output_type": "stream",
     "text": [
      "[100, 80, 70, 60]\n",
      "[100, 90, 80, 60]\n",
      "[90, 80, 70, 100]\n"
     ]
    }
   ],
   "source": [
    "scores_record = { \t'Kim':[100,80,70,60],\n",
    "\t\t\t'Bill':[100,90,80,60],\n",
    "\t\t\t'Mary':[90,80,70,100]}\n",
    "\n",
    "for key in scores_record.keys():\n",
    "\tprint (scores_record[key])"
   ]
  },
  {
   "cell_type": "code",
   "execution_count": 34,
   "metadata": {},
   "outputs": [
    {
     "name": "stdout",
     "output_type": "stream",
     "text": [
      "[100, 80, 70, 60]\n",
      "[100, 90, 80, 60]\n",
      "[90, 80, 70, 100]\n"
     ]
    }
   ],
   "source": [
    "for value in scores_record.values():\n",
    "\tprint (value)"
   ]
  },
  {
   "cell_type": "code",
   "execution_count": 36,
   "metadata": {},
   "outputs": [
    {
     "name": "stdout",
     "output_type": "stream",
     "text": [
      "Kim\n",
      "[100, 80, 70, 60]\n",
      "Bill\n",
      "[100, 90, 80, 60]\n",
      "Mary\n",
      "[90, 80, 70, 100]\n"
     ]
    }
   ],
   "source": [
    "for key, value in scores_record.items():\n",
    "\tprint (key)\n",
    "\tprint (value)"
   ]
  },
  {
   "cell_type": "markdown",
   "metadata": {},
   "source": [
    "### fromkey()"
   ]
  },
  {
   "cell_type": "code",
   "execution_count": 79,
   "metadata": {},
   "outputs": [
    {
     "name": "stdout",
     "output_type": "stream",
     "text": [
      "{1: ['Kim', 94598, '1 Main Street'], 2: ['Kim', 94598, '1 Main Street'], 3: ['Kim', 94598, '1 Main Street']}\n"
     ]
    }
   ],
   "source": [
    "keys = [1,2,3]\n",
    "values = ['Kim', 94598, '1 Main Street']\n",
    "\n",
    "dict1 = dict.fromkeys(keys,values)\n",
    "\n",
    "print (dict1)"
   ]
  },
  {
   "cell_type": "markdown",
   "metadata": {},
   "source": [
    "## Example 2\n",
    "Create a dictionary from the existing dictionary with subset of keys"
   ]
  },
  {
   "cell_type": "code",
   "execution_count": 84,
   "metadata": {},
   "outputs": [
    {
     "name": "stdout",
     "output_type": "stream",
     "text": [
      "{'name': 'Kelly', 'salary': 8000}\n"
     ]
    }
   ],
   "source": [
    "emp_dict = {\n",
    "    \"name\": \"Kelly\",\n",
    "    \"age\": 25,\n",
    "    \"salary\": 8000,\n",
    "    \"city\": \"New york\"}\n",
    "\n",
    "keys =['name', 'salary']\n",
    "\n",
    "new_dict = {}\n",
    "for k in keys:\n",
    "\ttry:\n",
    "\t\tnew_dict[k] = emp_dict[k]\n",
    "\texcept KeyError:\n",
    "\t\tpass\n",
    "print (new_dict)\n"
   ]
  },
  {
   "cell_type": "code",
   "execution_count": 85,
   "metadata": {},
   "outputs": [
    {
     "name": "stdout",
     "output_type": "stream",
     "text": [
      "{'name': 'Kelly', 'salary': 8000}\n"
     ]
    }
   ],
   "source": [
    "new_dict = { k:emp_dict[k] for k in keys} \t# simple , but there is no error check\n",
    "print (new_dict)\n"
   ]
  },
  {
   "cell_type": "markdown",
   "metadata": {},
   "source": [
    "## Example 3\n",
    "\n",
    "Delete a list of keys from a dictionary\n"
   ]
  },
  {
   "cell_type": "code",
   "execution_count": 86,
   "metadata": {},
   "outputs": [
    {
     "name": "stdout",
     "output_type": "stream",
     "text": [
      "{'name': 'Kelly', 'salary': 8000}\n"
     ]
    }
   ],
   "source": [
    "emp_dict = {\n",
    "    \"name\": \"Kelly\",\n",
    "    \"age\": 25,\n",
    "    \"salary\": 8000,\n",
    "    \"city\": \"New york\"}\n",
    "\n",
    "keys = ['age', 'city']\n",
    "\n",
    "for k in keys:\n",
    "    emp_dict.pop(k)     # pop() returns a value and delete the item at the same time\n",
    "\n",
    "print (emp_dict)\n"
   ]
  },
  {
   "cell_type": "code",
   "execution_count": 87,
   "metadata": {},
   "outputs": [
    {
     "name": "stdout",
     "output_type": "stream",
     "text": [
      "{'name': 'Kelly', 'salary': 8000}\n"
     ]
    }
   ],
   "source": [
    "emp_dict = {\n",
    "    \"name\": \"Kelly\",\n",
    "    \"age\": 25,\n",
    "    \"salary\": 8000,\n",
    "    \"city\": \"New york\"}\n",
    "\n",
    "keys = ['age', 'city']\n",
    "\n",
    "emp_dict = { k:emp_dict[k] for k in emp_dict.keys() - keys}\n",
    "print (emp_dict)\n"
   ]
  },
  {
   "cell_type": "markdown",
   "metadata": {},
   "source": [
    "<style>\n",
    "\th1 {\n",
    "\t\tbackground-color: grey;\n",
    "\t\tcolor: Yellow;\n",
    "\t\tborder: 3px solid grey;\n",
    "\t\tfont-size: xx-large; \n",
    "\t}\n",
    "\tp {\n",
    "\t\tbackground-color: grey;\n",
    "\t\tcolor: white;\n",
    "\t\tborder: 3px solid grey;\n",
    "\t}\n",
    "</style>\n",
    "<h1> Asterisk in Python </h1>\n",
    "\n",
    "Single * : Unpacking"
   ]
  },
  {
   "cell_type": "code",
   "execution_count": null,
   "metadata": {},
   "outputs": [
    {
     "name": "stdout",
     "output_type": "stream",
     "text": [
      "[10, 20, 30]\n",
      "10 20 30\n"
     ]
    }
   ],
   "source": [
    "lst = [10, 20, 30]\n",
    "\n",
    "print (lst)\n",
    "print (*lst)"
   ]
  },
  {
   "cell_type": "code",
   "execution_count": null,
   "metadata": {},
   "outputs": [
    {
     "name": "stdout",
     "output_type": "stream",
     "text": [
      "[1, 2, 3] [4, 5, 6]\n"
     ]
    }
   ],
   "source": [
    "listoflist = [ [1,2,3], [4,5,6]]\n",
    "\n",
    "print (*listoflist)\n"
   ]
  },
  {
   "cell_type": "code",
   "execution_count": 70,
   "metadata": {},
   "outputs": [
    {
     "name": "stdout",
     "output_type": "stream",
     "text": [
      "[1, 2, 3, [4, 5, 6]]\n"
     ]
    }
   ],
   "source": [
    "l1 = [1,2,3]\n",
    "l2 = [4,5,6]\n",
    "\n",
    "l1.append(l2)\n",
    "print (l1)"
   ]
  },
  {
   "cell_type": "code",
   "execution_count": 78,
   "metadata": {},
   "outputs": [
    {
     "name": "stdout",
     "output_type": "stream",
     "text": [
      "[[4, 5, 6]]\n",
      "[4, 5, 6]\n"
     ]
    }
   ],
   "source": [
    "l1 = [1,2,3]\n",
    "l2 = [4,5,6]\n",
    "\n",
    "l3 = [l2]\n",
    "print (l3)\n",
    "l3 = [*l2]\n",
    "print (l3)"
   ]
  },
  {
   "cell_type": "code",
   "execution_count": 71,
   "metadata": {},
   "outputs": [
    {
     "name": "stdout",
     "output_type": "stream",
     "text": [
      "[1, 2, 3, 4, 5, 6]\n"
     ]
    }
   ],
   "source": [
    "\n",
    "l1 = [1,2,3]\n",
    "l2 = [4,5,6]\n",
    "l3 = [*l1, *l2]\n",
    "print (l3)"
   ]
  },
  {
   "cell_type": "code",
   "execution_count": 56,
   "metadata": {},
   "outputs": [
    {
     "name": "stdout",
     "output_type": "stream",
     "text": [
      "a 1\n",
      "b 2\n",
      "c 3\n",
      "name Kim\n",
      "score 100\n",
      "address 94598\n"
     ]
    }
   ],
   "source": [
    "\n",
    "def fn(**kwargs):\n",
    "\tfor k, v in kwargs.items():\n",
    "\t\tprint (k, v)\n",
    "\n",
    "dict1 = {'a':1, 'b':2, 'c':3}\n",
    "# dict1 = {1:'a', 2:'b', 3:'c'}\n",
    "#################\tKEYWORDS should be STRING!!\n",
    "\n",
    "fn(**dict1)\n",
    "fn(name='Kim', score=100, address='94598')\n",
    "\n",
    "\n"
   ]
  },
  {
   "cell_type": "markdown",
   "metadata": {},
   "source": [
    "### Merge two dictionary\n"
   ]
  },
  {
   "cell_type": "code",
   "execution_count": 61,
   "metadata": {},
   "outputs": [
    {
     "name": "stdout",
     "output_type": "stream",
     "text": [
      "{'name': 'KIM', 'ZIP': 94598, 'address': '1234 Grand ave', 'score': [100, 90], 'Grade': 'Senior'}\n"
     ]
    }
   ],
   "source": [
    "dict1 = {'name': 'KIM', 'ZIP':94598, 'address':'1234 Grand ave'}\n",
    "dict2 = {'score':[100,90], 'Grade':'Senior'}\n",
    "dict3 = {**dict1, **dict2}\n",
    "\n",
    "print (dict3)"
   ]
  },
  {
   "cell_type": "code",
   "execution_count": 63,
   "metadata": {},
   "outputs": [
    {
     "name": "stdout",
     "output_type": "stream",
     "text": [
      "{'name': 'KIM', 'ZIP': 94598, 'address': '1234 Grand ave', 'score': [100, 90], 'Grade': 'Senior'}\n"
     ]
    }
   ],
   "source": [
    "dict3 = dict1.copy()\n",
    "dict3.update(dict2)\n",
    "print (dict3)"
   ]
  },
  {
   "cell_type": "markdown",
   "metadata": {},
   "source": [
    "<style>\n",
    "\th1 {\n",
    "\t\tbackground-color: grey;\n",
    "\t\tcolor: Yellow;\n",
    "\t\tborder: 3px solid grey;\n",
    "\t\tfont-size: xx-large; \n",
    "\t}\n",
    "\tp {\n",
    "\t\tbackground-color: grey;\n",
    "\t\tcolor: white;\n",
    "\t\tborder: 3px solid grey;\n",
    "\t}\n",
    "</style>\n",
    "<h1> zip </h1>"
   ]
  },
  {
   "cell_type": "markdown",
   "metadata": {},
   "source": [
    "### Zip Ex1"
   ]
  },
  {
   "cell_type": "code",
   "execution_count": 16,
   "metadata": {},
   "outputs": [
    {
     "name": "stdout",
     "output_type": "stream",
     "text": [
      "(1,)\n",
      "(2,)\n",
      "(3,)\n",
      "(1, 'a')\n",
      "(2, 'b')\n",
      "(3, 'c')\n"
     ]
    }
   ],
   "source": [
    "l1 = [1,2,3]\n",
    "\n",
    "result = zip(l1)\n",
    "\n",
    "for i in result:\n",
    "\tprint (i)\n",
    "\n",
    "l2 = ['a', 'b', 'c']\n",
    "\n",
    "result = zip (l1, l2)\n",
    "for i in result:\n",
    "\tprint (i)\n",
    "for i in result:\t\t# Think of this loop. print or not?\n",
    "\tprint (i)\n"
   ]
  },
  {
   "cell_type": "code",
   "execution_count": 1,
   "metadata": {},
   "outputs": [
    {
     "name": "stdout",
     "output_type": "stream",
     "text": [
      "<enumerate object at 0x7fcde93a4640>\n"
     ]
    }
   ],
   "source": [
    "l1 = [1,2,3]\n",
    "l2 = [4,5,6]\n",
    "\n",
    "enumlist = enumerate(zip(l1, l2))\n",
    "print (enumlist)"
   ]
  },
  {
   "cell_type": "code",
   "execution_count": 2,
   "metadata": {},
   "outputs": [
    {
     "name": "stdout",
     "output_type": "stream",
     "text": [
      "(0, (1, 4))\n",
      "(1, (2, 5))\n",
      "(2, (3, 6))\n"
     ]
    }
   ],
   "source": [
    "for value in enumlist:\n",
    "\tprint (value)\n",
    "\n",
    "for id, l1val, l2val in enumlist:\n",
    "\tprint (id, l1val, l2val)"
   ]
  },
  {
   "cell_type": "markdown",
   "metadata": {},
   "source": [
    "## Zip to Dictionary"
   ]
  },
  {
   "cell_type": "markdown",
   "metadata": {},
   "source": [
    "### Example 5"
   ]
  },
  {
   "cell_type": "code",
   "execution_count": 20,
   "metadata": {},
   "outputs": [
    {
     "name": "stdout",
     "output_type": "stream",
     "text": [
      "1001 C Programming\n",
      "1002 Java Programming\n",
      "1003 Python Programming\n",
      "C Programming\n",
      "Java Programming\n",
      "Python Programming\n",
      "C Programming\n",
      "Java Programming\n",
      "Python Programming\n"
     ]
    }
   ],
   "source": [
    "courseID = [ 1001, 1002, 1003]\n",
    "courseName = ['C Programming', 'Java Programming', 'Python Programming']\n",
    "\n",
    "course_dict = dict(zip(courseID, courseName))\n",
    "for k, v in course_dict.items():\n",
    "\tprint (k,v)\n",
    "\n",
    "\n",
    "for k in course_dict.keys():\n",
    "\tprint (course_dict[k])\n",
    "\n",
    "for value in course_dict.values():\n",
    "\tprint (value)\n",
    "\n",
    "\t"
   ]
  },
  {
   "cell_type": "markdown",
   "metadata": {},
   "source": [
    "## Example 6\n",
    "\n",
    "Make a heading to the result value set\n"
   ]
  },
  {
   "cell_type": "code",
   "execution_count": 112,
   "metadata": {},
   "outputs": [
    {
     "name": "stdout",
     "output_type": "stream",
     "text": [
      "{'ID': 10, 'Name': 'Kim', 'Address': '124 Main'}\n",
      "{'ID': 10, 'Name': 'Kim', 'Address': '124 Main'}\n",
      "{'ID': 20, 'Name': 'Jim', 'Address': '345 Grand'}\n",
      "{'ID': 30, 'Name': 'Bill', 'Address': '123 Blvd'}\n"
     ]
    }
   ],
   "source": [
    "heading = ['ID', 'Name', 'Address']\n",
    "valueset = [ (10, 'Kim', '124 Main'), (20, 'Jim', '345 Grand'), (30, 'Bill', '123 Blvd')]\n",
    "\n",
    "dict1 = dict(zip(heading, valueset[0]))\n",
    "print (dict1)\n",
    "\n",
    "\n",
    "zipped = [dict( zip(heading, value)) for value in valueset ]\n",
    "for k in zipped:\n",
    "\tprint (k)\n"
   ]
  },
  {
   "cell_type": "markdown",
   "metadata": {},
   "source": [
    "<style>\n",
    "\th1 {\n",
    "\t\tbackground-color: grey;\n",
    "\t\tcolor: Yellow;\n",
    "\t\tborder: 3px solid grey;\n",
    "\t\tfont-size: xx-large; \n",
    "\t}\n",
    "\tp {\n",
    "\t\tbackground-color: grey;\n",
    "\t\tcolor: white;\n",
    "\t\tborder: 3px solid grey;\n",
    "\t}\n",
    "</style>\n",
    "<h1> * operator in zip <br> Unzip </h1>"
   ]
  },
  {
   "cell_type": "code",
   "execution_count": 28,
   "metadata": {},
   "outputs": [
    {
     "name": "stdout",
     "output_type": "stream",
     "text": [
      "[[1001, 'Bill', 'Senior', 94568], [1002, 'Kurt', 'Junior', 94598], [1003, 'Kim', 'Senior', 94598]]\n",
      "<zip object at 0x7ff5205c60c0>\n",
      "(1001, 1002, 1003)\n",
      "('Bill', 'Kurt', 'Kim')\n",
      "('Senior', 'Junior', 'Senior')\n",
      "(94568, 94598, 94598)\n",
      "(1001, 1002, 1003)\n",
      "(94568, 94598, 94598)\n"
     ]
    }
   ],
   "source": [
    "\n",
    "# Student's information: ID, Name, GradeLevel, Zip\n",
    "student_list = [ [1001, 'Bill', 'Senior', 94568],\n",
    "\t\t [1002, 'Kurt', 'Junior', 94598],\n",
    "\t\t [1003, 'Kim', 'Senior', 94598] ]\n",
    "\n",
    "print (student_list)\n",
    "\n",
    "print (zip(*student_list))\n",
    "for value in zip(*student_list):\n",
    "\tprint (value)\n",
    "\n",
    "IDlist, Namelist, Glist, Zlist = zip(*student_list)\n",
    "\n",
    "print (IDlist)\n",
    "print (Zlist)\n"
   ]
  },
  {
   "cell_type": "code",
   "execution_count": 40,
   "metadata": {},
   "outputs": [
    {
     "name": "stdout",
     "output_type": "stream",
     "text": [
      "{10: 'Kurt', 20: 'Jim', 30: 'Bill'}\n",
      "(10, 20, 30)\n",
      "('Kurt', 'Jim', 'Bill')\n",
      "(10, 20, 30)\n",
      "('Kurt', 'Jim', 'Bill')\n"
     ]
    },
    {
     "name": "stdout",
     "output_type": "stream",
     "text": [
      "\u001b[0;31mType:\u001b[0m        tuple\n",
      "\u001b[0;31mString form:\u001b[0m (10, 20, 30)\n",
      "\u001b[0;31mLength:\u001b[0m      3\n",
      "\u001b[0;31mDocstring:\u001b[0m  \n",
      "Built-in immutable sequence.\n",
      "\n",
      "If no argument is given, the constructor returns an empty tuple.\n",
      "If iterable is specified the tuple is initialized from iterable's items.\n",
      "\n",
      "If the argument is a tuple, the return value is the same object.\n"
     ]
    }
   ],
   "source": [
    "dictionary1 = { 10:\"Kurt\", 20:\"Jim\", 30:\"Bill\"}\n",
    "print (dictionary1)\n",
    "\n",
    "unzipped = zip(*dictionary1.items())\n",
    "\n",
    "for values in unzipped:\n",
    "\tprint (values)\n",
    "\n",
    "IDlist, Namelist = zip(*dictionary1.items())\n",
    "print (IDlist)\t# tuple\n",
    "print (Namelist) # tuple\n",
    "\n",
    "IDlist?\n"
   ]
  },
  {
   "cell_type": "code",
   "execution_count": 43,
   "metadata": {},
   "outputs": [
    {
     "name": "stdout",
     "output_type": "stream",
     "text": [
      "('K', 'J', 'B')\n",
      "('u', 'i', 'i')\n",
      "('r', 'm', 'l')\n"
     ]
    }
   ],
   "source": [
    "\n",
    "for v in zip(*Namelist):\n",
    "\tprint (v)\n"
   ]
  },
  {
   "cell_type": "code",
   "execution_count": 44,
   "metadata": {},
   "outputs": [
    {
     "name": "stdout",
     "output_type": "stream",
     "text": [
      "('K', 'B', 'K')\n",
      "('i', 'i', 'u')\n",
      "('m', 'l', 'r')\n"
     ]
    }
   ],
   "source": [
    "namelist = ['Kim', 'Bill', 'Kurt']\n",
    "\n",
    "for v in zip(*namelist):\n",
    "\tprint (v)"
   ]
  },
  {
   "cell_type": "code",
   "execution_count": 1,
   "metadata": {},
   "outputs": [
    {
     "name": "stdout",
     "output_type": "stream",
     "text": [
      "(10, 'Kim')\n",
      "(20, 'Jim')\n",
      "(30, 'Sam')\n",
      "([10, 20, 30],)\n",
      "(['Kim', 'Jim', 'Sam'],)\n"
     ]
    }
   ],
   "source": [
    "list1 = [ [10, 20, 30], ['Kim', 'Jim', 'Sam']]\n",
    "\n",
    "for value in zip(*list1):\n",
    "\tprint (value)\n",
    "for value in zip(list1):\n",
    "\tprint (value)"
   ]
  },
  {
   "cell_type": "markdown",
   "metadata": {},
   "source": [
    "<style>\n",
    "\th1 {\n",
    "\t\tbackground-color: grey;\n",
    "\t\tcolor: Yellow;\n",
    "\t\tborder: 3px solid grey;\n",
    "\t\t-- font-size: xx-large; \n",
    "\t}\n",
    "\tp {\n",
    "\t\tbackground-color: grey;\n",
    "\t\tcolor: white;\n",
    "\t\tborder: 3px solid grey;\n",
    "\t}\n",
    "</style>\n",
    "<h1 font-size:40px> Map </h1>\n",
    "\n"
   ]
  },
  {
   "cell_type": "code",
   "execution_count": 3,
   "metadata": {},
   "outputs": [
    {
     "name": "stdout",
     "output_type": "stream",
     "text": [
      "1\n",
      "4\n",
      "9\n",
      "16\n",
      "25\n",
      "[]\n"
     ]
    }
   ],
   "source": [
    "def \tsquare(val):\n",
    "\treturn val * val\n",
    "\n",
    "lst = [1,2,3,4,5]\n",
    "\n",
    "sqrmap = map(square, lst)\n",
    "\n",
    "for v in sqrmap:\n",
    "\tprint (v)\n",
    "\n",
    "sqrlst = list(sqrmap)\n",
    "print (sqrlst)\n"
   ]
  },
  {
   "cell_type": "code",
   "execution_count": 5,
   "metadata": {},
   "outputs": [
    {
     "name": "stdout",
     "output_type": "stream",
     "text": [
      "1 4 9 16 25 []\n"
     ]
    }
   ],
   "source": [
    "\n",
    "sqr = lambda val : val * val\n",
    "\n",
    "lst = [1,2,3,4,5]\n",
    "\n",
    "sqrmap = map(sqr, lst)\n",
    "\n",
    "for v in sqrmap:\n",
    "\tprint (v, end=' ')\n",
    "\n",
    "sqrlst = list(sqrmap)\n",
    "print (sqrlst)\n"
   ]
  },
  {
   "cell_type": "code",
   "execution_count": 8,
   "metadata": {},
   "outputs": [
    {
     "name": "stdout",
     "output_type": "stream",
     "text": [
      "['C', '+', '+']\n",
      "['P', 'y', 't', 'h', 'o', 'n']\n",
      "['J', 'a', 'v', 'a']\n"
     ]
    }
   ],
   "source": [
    "\n",
    "list('sat')\n",
    "\n",
    "mylst = ['C++', 'Python', 'Java']\n",
    "\n",
    "mapobj = map(list, mylst)\n",
    "\n",
    "for val in mapobj:\n",
    "\tprint (val)\n"
   ]
  },
  {
   "cell_type": "markdown",
   "metadata": {},
   "source": [
    "## Example 7\n",
    "\n",
    "Map: make all elements values in the list have half\n"
   ]
  },
  {
   "cell_type": "code",
   "execution_count": 11,
   "metadata": {},
   "outputs": [
    {
     "name": "stdout",
     "output_type": "stream",
     "text": [
      "5.0 10.0 15.0 20.0 25.0 "
     ]
    }
   ],
   "source": [
    "mylist = [10, 20, 30, 40, 50]\n",
    "\n",
    "for value in map(lambda x : x /2, mylist):\n",
    "\tprint (value, end=' ')"
   ]
  },
  {
   "cell_type": "markdown",
   "metadata": {},
   "source": [
    "## Example 8\n",
    "\n",
    "Map: make all elements values in the list have 0, 1 based on the even or odd number \n"
   ]
  },
  {
   "cell_type": "code",
   "execution_count": 12,
   "metadata": {},
   "outputs": [
    {
     "name": "stdout",
     "output_type": "stream",
     "text": [
      "1 0 1 0 1 1 1 "
     ]
    }
   ],
   "source": [
    "mylist = [5, 10, 15, 20, 21, 25, 27]\n",
    "\n",
    "for value in map(lambda x : 0 if x % 2 == 0 else 1, mylist):\n",
    "\tprint (value, end=' ')"
   ]
  },
  {
   "cell_type": "markdown",
   "metadata": {},
   "source": [
    "<style>\n",
    "\th1 {\n",
    "\t\tbackground-color: grey;\n",
    "\t\tcolor: Yellow;\n",
    "\t\tborder: 3px solid grey;\n",
    "\t\t-- font-size: xx-large; \n",
    "\t}\n",
    "\tp {\n",
    "\t\tbackground-color: grey;\n",
    "\t\tcolor: white;\n",
    "\t\tborder: 3px solid grey;\n",
    "\t}\n",
    "</style>\n",
    "<h1 font-size:40px> Filter </h1>\n",
    "\n"
   ]
  },
  {
   "cell_type": "code",
   "execution_count": 16,
   "metadata": {},
   "outputs": [
    {
     "name": "stdout",
     "output_type": "stream",
     "text": [
      "2\n",
      "4\n"
     ]
    }
   ],
   "source": [
    "def evenfilter(val):\n",
    "\treturn True if val % 2 == 0 else False\n",
    "\n",
    "lst = [1,2,3,4,5]\n",
    "\n",
    "filterobj = filter(evenfilter, lst)\n",
    "for value in filterobj:\n",
    "\tprint (value)\n"
   ]
  },
  {
   "cell_type": "markdown",
   "metadata": {},
   "source": [
    "## Example 9\n",
    "\n",
    "Map and zip  \n"
   ]
  },
  {
   "cell_type": "code",
   "execution_count": 22,
   "metadata": {},
   "outputs": [
    {
     "name": "stdout",
     "output_type": "stream",
     "text": [
      "[(5, 10), (10, 15), (15, 25), (25, 20), (20, 55), (55, 40)]\n",
      "[(25, 20), (55, 40)]\n",
      "25\n",
      "55\n"
     ]
    }
   ],
   "source": [
    "def greater(tvalue):\n",
    "\tx,y = tvalue\n",
    "\tif (x>y): \n",
    "\t\treturn True\n",
    "\telse:\n",
    "\t\treturn False\n",
    "\n",
    "mylist = [ 5, 10, 15, 25, 20, 55, 40]\n",
    "\n",
    "zipped = list(zip(mylist, mylist[1:]))\n",
    "print (zipped)\n",
    "\n",
    "print (list(filter(greater, zipped)))\n",
    "\n",
    "for x,v in list(filter(greater, zipped)):\n",
    "\tprint (x) \n"
   ]
  },
  {
   "cell_type": "markdown",
   "metadata": {},
   "source": [
    "## Example 10\n",
    "\n",
    "Zip, Filter, and map\n"
   ]
  },
  {
   "cell_type": "code",
   "execution_count": 58,
   "metadata": {},
   "outputs": [
    {
     "name": "stdout",
     "output_type": "stream",
     "text": [
      "5.0 7.5 12.5 27.5 "
     ]
    }
   ],
   "source": [
    "\n",
    "greater = lambda x: x[0] > x[1]\n",
    "makehalf = lambda x : x[0] / 2 \n",
    "\n",
    "mylist = [ 5, 10, 15, 25, 20, 55, 40]\n",
    "\n",
    "for x in map( makehalf, filter(greater, zip(mylist[1::], mylist) )):\n",
    "\tprint (x, end=' ')\n",
    "\n",
    "\n"
   ]
  },
  {
   "cell_type": "code",
   "execution_count": 80,
   "metadata": {},
   "outputs": [
    {
     "name": "stdout",
     "output_type": "stream",
     "text": [
      "(10, 5)\n",
      "(15, 10)\n",
      "(25, 15)\n",
      "(20, 25)\n",
      "(55, 20)\n",
      "(40, 55)\n",
      "(10, 5)\n",
      "(15, 10)\n",
      "(25, 15)\n",
      "(55, 20)\n",
      "5.0\n",
      "7.5\n",
      "12.5\n",
      "27.5\n"
     ]
    }
   ],
   "source": [
    "#step by step\n",
    "\n",
    "mylist = [ 5, 10, 15, 25, 20, 55, 40]\n",
    "\n",
    "for val in zip(mylist[1::], mylist):\n",
    "\tprint (val)\n",
    "\n",
    "greater = lambda x : x[0] > x[1] \n",
    "for val in filter(greater, zip(mylist[1::], mylist)):\n",
    "\tprint (val)\n",
    "\n",
    "makehalf = lambda x : x[0]/2\n",
    "\n",
    "for  val in map(makehalf, filter(greater, zip(mylist[1::], mylist) )):\n",
    "\tprint (val)"
   ]
  },
  {
   "cell_type": "markdown",
   "metadata": {},
   "source": [
    "<style>\n",
    "\th1 {\n",
    "\t\tbackground-color: grey;\n",
    "\t\tcolor: Yellow;\n",
    "\t\tborder: 3px solid grey;\n",
    "\t\t-- font-size: xx-large; \n",
    "\t}\n",
    "\tp {\n",
    "\t\tbackground-color: grey;\n",
    "\t\tcolor: white;\n",
    "\t\tborder: 3px solid grey;\n",
    "\t}\n",
    "</style>\n",
    "<h1 font-size:40px> Reduce </h1>\n",
    "\n"
   ]
  },
  {
   "cell_type": "code",
   "execution_count": 89,
   "metadata": {},
   "outputs": [
    {
     "name": "stdout",
     "output_type": "stream",
     "text": [
      "55\n"
     ]
    }
   ],
   "source": [
    "from functools import reduce\n",
    "\n",
    "lst = [1,2,3,4,5,6,7,8,9,10]\n",
    "# lst = [1,2,3,4, 5]\n",
    "\n",
    "lstsum = lambda x, y: x + y\n",
    "\n",
    "print (reduce(lstsum, lst))"
   ]
  },
  {
   "cell_type": "markdown",
   "metadata": {},
   "source": [
    "## Example 11\n",
    "\n",
    "Reduce : find the max\n"
   ]
  },
  {
   "cell_type": "code",
   "execution_count": 97,
   "metadata": {},
   "outputs": [
    {
     "name": "stdout",
     "output_type": "stream",
     "text": [
      "55\n"
     ]
    }
   ],
   "source": [
    "mylist = [ 5, 10, 15, 25, 20, 55, 40]\n",
    "\n",
    "myavg = lambda x,y : x if x > y else y\n",
    "\n",
    "average = reduce(myavg, mylist)\n",
    "\n",
    "print (average) \n",
    "\n"
   ]
  },
  {
   "cell_type": "markdown",
   "metadata": {},
   "source": [
    "## Example 12\n",
    "\n",
    "Reduce : get an average\n"
   ]
  },
  {
   "cell_type": "code",
   "execution_count": 100,
   "metadata": {},
   "outputs": [
    {
     "name": "stdout",
     "output_type": "stream",
     "text": [
      "Average of the list: 24.29\n"
     ]
    }
   ],
   "source": [
    "mylist = [ 5, 10, 15, 25, 20, 55, 40]\n",
    "\n",
    "myavg = lambda x,y : x + y\n",
    "\n",
    "average = reduce(myavg, mylist) / len(mylist)\n",
    "\n",
    "print (\"Average of the list: {0:.2f}\".format(average)) \n",
    "\n"
   ]
  },
  {
   "cell_type": "markdown",
   "metadata": {},
   "source": [
    "## Reduce with oprator \n",
    "\n",
    "import operator\n"
   ]
  },
  {
   "cell_type": "code",
   "execution_count": 104,
   "metadata": {},
   "outputs": [
    {
     "name": "stdout",
     "output_type": "stream",
     "text": [
      "15\n",
      "120\n"
     ]
    }
   ],
   "source": [
    "from functools import reduce\n",
    "import operator\n",
    "\n",
    "mylist = [1,2,3,4,5]\n",
    "\n",
    "sum = reduce(operator.add, mylist)\n",
    "print (sum)\n",
    "\n",
    "productoflist = reduce(operator.mul, mylist)\n",
    "print (productoflist)\n"
   ]
  }
 ],
 "metadata": {
  "interpreter": {
   "hash": "a614fddea9d37e019a720cc724ab725ff28be4e0e64e91a691a8738e1909110d"
  },
  "kernelspec": {
   "display_name": "Python 3.9.7 ('base')",
   "language": "python",
   "name": "python3"
  },
  "language_info": {
   "codemirror_mode": {
    "name": "ipython",
    "version": 3
   },
   "file_extension": ".py",
   "mimetype": "text/x-python",
   "name": "python",
   "nbconvert_exporter": "python",
   "pygments_lexer": "ipython3",
   "version": "3.9.7"
  },
  "orig_nbformat": 4
 },
 "nbformat": 4,
 "nbformat_minor": 2
}
