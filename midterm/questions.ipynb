{
 "cells": [
  {
   "cell_type": "markdown",
   "metadata": {},
   "source": [
    "## <mark style=\"background-color:teal; color:white\"> Question 1 </mark>"
   ]
  },
  {
   "cell_type": "code",
   "execution_count": 8,
   "metadata": {},
   "outputs": [
    {
     "name": "stdout",
     "output_type": "stream",
     "text": [
      "zzz zebra \n"
     ]
    }
   ],
   "source": [
    "words = input().split()\n",
    "keyword = input()\n",
    "\n",
    "for i in range(len(words)):\n",
    "\tfor j in range(len(keyword)):\n",
    "\t\tif keyword[j] in words[i]:\n",
    "\t\t\tprint (words[i], end=' ')\n",
    "\t\t\tbreak\n",
    "\n",
    "print ()"
   ]
  },
  {
   "cell_type": "markdown",
   "metadata": {},
   "source": [
    "## <mark style=\"background-color:teal; color:white\"> Question 2 </mark>"
   ]
  },
  {
   "cell_type": "code",
   "execution_count": 3,
   "metadata": {},
   "outputs": [
    {
     "name": "stdout",
     "output_type": "stream",
     "text": [
      "[1, 9, 2, 10, 3, 11, 4, 12, 5, 13]\n"
     ]
    }
   ],
   "source": [
    "list1 = list(map(int, input().split()))\n",
    "list2 = list(map(int, input().split()))\n",
    "\n",
    "result = []\n",
    "\n",
    "for i in range(len(list1)):\n",
    "\tresult.append(list1.pop(0))\n",
    "\tresult.append(list2.pop(0))\n",
    "print (result)\n"
   ]
  },
  {
   "cell_type": "markdown",
   "metadata": {},
   "source": [
    "## <mark style=\"background-color:teal; color:white\"> Question 3 </mark>"
   ]
  },
  {
   "cell_type": "code",
   "execution_count": 12,
   "metadata": {},
   "outputs": [
    {
     "name": "stdout",
     "output_type": "stream",
     "text": [
      "6 8 4 10 5 9 2 7 [6, 8, 4, 10, 5, 9, 2, 7]\n",
      "\n",
      "4 6 2 5 [4, 8, 6, 10, 2, 9, 5, 7]\n",
      "\n",
      "2 4 [2, 8, 6, 10, 4, 9, 5, 7]\n",
      "\n",
      "[2, 8, 6, 10, 4, 9, 5, 7]\n"
     ]
    }
   ],
   "source": [
    "import math\n",
    "\n",
    "number = list(map(int, input().split()))\n",
    "\n",
    "repeatN = int(math.log2(len(number)))\n",
    "# print ('Number of iterations ', N)\n",
    "\n",
    "step = 1\n",
    "for i in range(repeatN):\n",
    "\t# for loop: N / step * 2 \n",
    "\tfor j in range(0, len(number), step*2):\n",
    "\t\t# print (j, end=' ')\n",
    "\t\tif number[j] > number[j+step]:\n",
    "\t\t\tnumber[j], number[j+step] = number[j+step], number[j]\n",
    "\t\tprint (number[j],number[j+step], end=' ')\n",
    "\tstep *= 2\n",
    "\tprint (number)\n",
    "\tprint ()\n",
    "\n",
    "print (number)\n",
    "\n"
   ]
  },
  {
   "cell_type": "markdown",
   "metadata": {},
   "source": [
    "## <mark style=\"background-color:teal; color:white\"> Question 4 </mark>"
   ]
  },
  {
   "cell_type": "code",
   "execution_count": 13,
   "metadata": {},
   "outputs": [
    {
     "name": "stdout",
     "output_type": "stream",
     "text": [
      "James 200 100.00\n",
      "John 180 90.00\n",
      "[[100, 100], [90, 90]]\n"
     ]
    }
   ],
   "source": [
    "\n",
    "# N = int(input('Enter the number of students: '))\n",
    "# M = int(input('Enter the number of scores: '))\n",
    "\n",
    "name = input().split()\n",
    "score = []\n",
    "for i in range(len(name)):\n",
    "\ttotal = 0\n",
    "\tscore.append(list(map(int,input().split())))\n",
    "\ttotal += sum(score[i])\n",
    "\tavg = total / len(score[i])\n",
    "\tprint (f'{name[i]} {total} {avg:.2f}')\n",
    "\n",
    "print(score)"
   ]
  },
  {
   "cell_type": "code",
   "execution_count": 16,
   "metadata": {},
   "outputs": [
    {
     "name": "stdout",
     "output_type": "stream",
     "text": [
      "Bill 370 92\n",
      "Jim 350 88\n",
      "Joe 350 88\n"
     ]
    }
   ],
   "source": [
    "score = [\n",
    "\t[100, 90, 90, 90],\n",
    "\t[100, 90, 80, 80],\n",
    "\t[100, 80, 90, 80]\n",
    "]\n",
    "name = ['Bill', 'Jim', 'Joe']\n",
    "\n",
    "for i in range(len(name)):\n",
    "\ttotal = 0\n",
    "\ttotal += sum(score[i])\n",
    "\tavg = total / len(score[i])\n",
    "\tprint (f'{name[i]} {total} {avg:.0f}')\n",
    "\t\n",
    "# [\\w,\\W]*Kim[\\w,\\W]*350[\\w,\\W]*88[\\w,\\W]*\\n[\\w,\\W]*Joe[\\w,\\W]*360[\\w,\\W]*90[\\w,\\W]*\n",
    "# Kim 350 88\n",
    "# Joe 360 90"
   ]
  },
  {
   "cell_type": "markdown",
   "metadata": {},
   "source": [
    "## <mark style=\"background-color:teal; color:white\"> Question 5 </mark>"
   ]
  },
  {
   "cell_type": "code",
   "execution_count": 17,
   "metadata": {},
   "outputs": [
    {
     "data": {
      "image/png": "[encoded data removed]",
      "text/plain": [
       "<Figure size 432x288 with 1 Axes>"
      ]
     },
     "metadata": {
      "needs_background": "light"
     },
     "output_type": "display_data"
    }
   ],
   "source": [
    "import numpy as np\n",
    "import matplotlib.pyplot as plt\n",
    "\n",
    "Math = [100, 90]\n",
    "English = [90, 80]\n",
    "Physics = [80, 80]\n",
    "Computer = [80, 90]\n",
    "x = np.arange(2) \n",
    "width = 0.2\n",
    "labels = ['Math', 'English', 'Physics', 'Computer']\n",
    "names = ['Bill', 'Mary']\n",
    "\n",
    "fig, ax = plt.subplots()\n",
    "bar1 = ax.bar(x-width*1.5, Math, width)\n",
    "bar2 = ax.bar(x-width*0.5, English, width)\n",
    "bar3 = ax.bar(x+width*1.5, Physics, width)\n",
    "bar4 = ax.bar(x+width*0.5, Computer, width)\n",
    "\n",
    "ax.set_title(\"Grouped graph for scores\")\n",
    "ax.bar_label(bar1, padding=3)\n",
    "ax.bar_label(bar2, padding=3)\n",
    "ax.bar_label(bar3, padding=3)\n",
    "ax.bar_label(bar4, padding=3)\n",
    "ax.legend(labels)\n",
    "ax.set_xticks(x, names)\n",
    "fig.savefig('midtermq5.png')"
   ]
  },
  {
   "cell_type": "code",
   "execution_count": 6,
   "metadata": {},
   "outputs": [
    {
     "data": {
      "image/png": "[encoded data removed]",
      "text/plain": [
       "<Figure size 432x288 with 1 Axes>"
      ]
     },
     "metadata": {
      "needs_background": "light"
     },
     "output_type": "display_data"
    }
   ],
   "source": [
    "import matplotlib.pyplot as plt\n",
    "import numpy as np\n",
    "\n",
    "\n",
    "label = ['Math', 'Physic', 'English', 'Algebra']\n",
    "x = np.arange(len(label))\n",
    "john = [100, 90, 100, 90]\n",
    "doe = [100, 100, 100, 90]\n",
    "width = 0.35\n",
    "\n",
    "fig, ax = plt.subplots()\n",
    "rect1 = ax.bar(x-width/2, john, width, label='John')\n",
    "rect2 = ax.bar(x+width/2, doe, width, label='Doe')\n",
    "\n",
    "ax.set_ylabel('Scores')\n",
    "ax.set_title('Scores by group and gender')\n",
    "ax.legend()\n",
    "ax.set_xticks(x, label)\n",
    "# plt.xticks(x, label)\n",
    "\n",
    "ax.bar_label(rect1, padding=3)\n",
    "ax.bar_label(rect2, padding=3)\n",
    "\n",
    "fig.savefig('midtermq5.png')\n",
    "plt.show()\n"
   ]
  }
 ],
 "metadata": {
  "kernelspec": {
   "display_name": "Python 3.9.7 ('base')",
   "language": "python",
   "name": "python3"
  },
  "language_info": {
   "codemirror_mode": {
    "name": "ipython",
    "version": 3
   },
   "file_extension": ".py",
   "mimetype": "text/x-python",
   "name": "python",
   "nbconvert_exporter": "python",
   "pygments_lexer": "ipython3",
   "version": "3.9.7"
  },
  "orig_nbformat": 4,
  "vscode": {
   "interpreter": {
    "hash": "a614fddea9d37e019a720cc724ab725ff28be4e0e64e91a691a8738e1909110d"
   }
  }
 },
 "nbformat": 4,
 "nbformat_minor": 2
}
