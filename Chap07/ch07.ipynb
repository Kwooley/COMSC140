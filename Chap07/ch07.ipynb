{
 "cells": [
  {
   "cell_type": "markdown",
   "metadata": {},
   "source": [
    "<img src=\"https://nimbus-screenshots.s3.amazonaws.com/s/cbd2ce18f901517114c62d417dc51a9b.png\">"
   ]
  },
  {
   "cell_type": "markdown",
   "metadata": {},
   "source": [
    "# <p style=\"background-color:grey; color:white\"> 1. List</p>"
   ]
  },
  {
   "cell_type": "markdown",
   "metadata": {},
   "source": [
    "#### Create a list with the values"
   ]
  },
  {
   "cell_type": "code",
   "execution_count": 4,
   "metadata": {},
   "outputs": [
    {
     "name": "stdout",
     "output_type": "stream",
     "text": [
      "[100, 20, 30]\n",
      "[100, 20, 30]\n",
      "[100, 20, 30]\n",
      "[100, 200, 300]\n"
     ]
    }
   ],
   "source": [
    "l1 = [10, 20, 30]\n",
    "l2 = l1\n",
    "l2[0] = 100\n",
    "print (l1)\n",
    "print (l2)\n",
    "\n",
    "l2 = [100, 200, 300]\n",
    "print (l1) # 100 20 30   # 100 200 300 \n",
    "print (l2)\n",
    "l1 is l2 # false \n"
   ]
  },
  {
   "cell_type": "code",
   "execution_count": null,
   "metadata": {},
   "outputs": [],
   "source": []
  },
  {
   "cell_type": "markdown",
   "metadata": {},
   "source": [
    "num = [10, 20, 30]\n",
    "\n",
    "print (num[1])\n",
    "\n",
    "num[1] = 99\n",
    "print (num[1])\n"
   ]
  },
  {
   "cell_type": "code",
   "execution_count": 4,
   "metadata": {},
   "outputs": [
    {
     "name": "stdout",
     "output_type": "stream",
     "text": [
      "[20]\n"
     ]
    }
   ],
   "source": [
    "num = []\n",
    "num.append(20)\n",
    "print (num)\n"
   ]
  },
  {
   "cell_type": "code",
   "execution_count": 5,
   "metadata": {},
   "outputs": [
    {
     "name": "stdout",
     "output_type": "stream",
     "text": [
      "[0, 0, 0, 0, 0]\n"
     ]
    }
   ],
   "source": [
    "num = [0] * 5\n",
    "print (num)"
   ]
  },
  {
   "cell_type": "code",
   "execution_count": 11,
   "metadata": {},
   "outputs": [
    {
     "name": "stdout",
     "output_type": "stream",
     "text": [
      "[0, 1, 2, 3, 4]\n",
      "[0, 1, 99, 2, 3, 4, 10]\n"
     ]
    }
   ],
   "source": [
    "num = [0] * 5\n",
    "\n",
    "for i in range(5):\n",
    "\tnum[i] = i\n",
    "\n",
    "print (num)\n",
    "\n",
    "# num[5] = 10\n",
    "num.append(10)\n",
    "\n",
    "num.insert(2, 99)\n",
    "print (num)"
   ]
  },
  {
   "cell_type": "code",
   "execution_count": 14,
   "metadata": {},
   "outputs": [
    {
     "name": "stdout",
     "output_type": "stream",
     "text": [
      "120\n",
      "20.0\n"
     ]
    }
   ],
   "source": [
    "numbers = [ 5, 15, 0, 25, 35, 40]\n",
    "# print (len(numbers))\n",
    "\n",
    "summation = 0\n",
    "for i in range(len(numbers)):\n",
    "\tsummation += numbers[i] \n",
    "print (summation)\n",
    "print (summation / len(numbers))\n"
   ]
  },
  {
   "cell_type": "code",
   "execution_count": null,
   "metadata": {},
   "outputs": [],
   "source": [
    "numbers = [ 5, 15, 0, 25, 35, 40]\n",
    "\n",
    "# average value\n",
    "for i in range(len(numbers)):\n",
    "\tsummation += numbers[i] \n",
    "average = summation / len(numbers)\n",
    "\n",
    "for i in range(len(numbers)):\n",
    "\tif ( numbers[i] > average ):\n",
    "\t\tprint (numbers[i])\n"
   ]
  },
  {
   "cell_type": "code",
   "execution_count": 2,
   "metadata": {},
   "outputs": [
    {
     "name": "stdout",
     "output_type": "stream",
     "text": [
      "[5, 10, 15, 20]\n"
     ]
    }
   ],
   "source": [
    "numbers = [5, 10, 15, 20]\n",
    "print (numbers)"
   ]
  },
  {
   "cell_type": "markdown",
   "metadata": {},
   "source": [
    "#### Create a list with range function"
   ]
  },
  {
   "cell_type": "code",
   "execution_count": 4,
   "metadata": {},
   "outputs": [
    {
     "name": "stdout",
     "output_type": "stream",
     "text": [
      "[0, 1, 2, 3, 4]\n"
     ]
    }
   ],
   "source": [
    "numbers = list(range(5))\n",
    "print (numbers)"
   ]
  },
  {
   "cell_type": "markdown",
   "metadata": {},
   "source": [
    "#### Create a list with Repetition Operator"
   ]
  },
  {
   "cell_type": "code",
   "execution_count": 5,
   "metadata": {},
   "outputs": [
    {
     "name": "stdout",
     "output_type": "stream",
     "text": [
      "[0, 0, 0, 0, 0]\n"
     ]
    }
   ],
   "source": [
    "numbers = [0] * 5\n",
    "print (numbers)"
   ]
  },
  {
   "cell_type": "code",
   "execution_count": 6,
   "metadata": {},
   "outputs": [
    {
     "name": "stdout",
     "output_type": "stream",
     "text": [
      "[0, 1, 2, 0, 1, 2, 0, 1, 2]\n"
     ]
    }
   ],
   "source": [
    "numbers = [0, 1, 2] * 3\n",
    "print (numbers)"
   ]
  },
  {
   "cell_type": "markdown",
   "metadata": {},
   "source": [
    "#### List with a for loop\n"
   ]
  },
  {
   "cell_type": "code",
   "execution_count": 8,
   "metadata": {},
   "outputs": [
    {
     "name": "stdout",
     "output_type": "stream",
     "text": [
      "10 20 30 40 50 "
     ]
    }
   ],
   "source": [
    "numbers = [10, 20, 30, 40, 50]\n",
    "\n",
    "for n in numbers:\n",
    "\tprint (n, end=' ')\n"
   ]
  },
  {
   "cell_type": "markdown",
   "metadata": {},
   "source": [
    "### Indexing"
   ]
  },
  {
   "cell_type": "code",
   "execution_count": 14,
   "metadata": {},
   "outputs": [
    {
     "name": "stdout",
     "output_type": "stream",
     "text": [
      "10\t20\t30\t40\t50\t\n",
      "10\t30\t50\t"
     ]
    }
   ],
   "source": [
    "numbers = [10,20,30,40,50]\n",
    "\n",
    "for i in range(5):\n",
    "\tprint (numbers[i] , end='\\t')\n",
    "print ()\n",
    "\n",
    "for i in range(0, 5, 2):\n",
    "\tprint (numbers[i] , end='\\t')\n"
   ]
  },
  {
   "cell_type": "code",
   "execution_count": 15,
   "metadata": {},
   "outputs": [
    {
     "name": "stdout",
     "output_type": "stream",
     "text": [
      "50\n",
      "30\n",
      "10\n"
     ]
    }
   ],
   "source": [
    "print (numbers[-1])\n",
    "print (numbers[-3])\n",
    "print (numbers[-5])"
   ]
  },
  {
   "cell_type": "markdown",
   "metadata": {},
   "source": [
    "### Change List Value "
   ]
  },
  {
   "cell_type": "code",
   "execution_count": 17,
   "metadata": {},
   "outputs": [
    {
     "name": "stdout",
     "output_type": "stream",
     "text": [
      "20 30 40 50 60 "
     ]
    }
   ],
   "source": [
    "num = [10, 20, 30, 40, 50]\n",
    "\n",
    "for i in range(5):\n",
    "\tnum[i] += 10\n",
    "\n",
    "for v in num:\n",
    "\tprint (v, end=' ')"
   ]
  },
  {
   "cell_type": "markdown",
   "metadata": {},
   "source": [
    "#### When you use for-each loop, list valus are not changed"
   ]
  },
  {
   "cell_type": "code",
   "execution_count": 18,
   "metadata": {},
   "outputs": [
    {
     "name": "stdout",
     "output_type": "stream",
     "text": [
      "10 20 30 40 50 "
     ]
    }
   ],
   "source": [
    "num = [10, 20, 30, 40, 50]\n",
    "\n",
    "for v in num:\n",
    "\tv += 10\t\n",
    "\tprint (v, end=' ') \t# Values are added to 10\n",
    "for v in num:\n",
    "\tprint (v, end=' ')"
   ]
  },
  {
   "cell_type": "markdown",
   "metadata": {},
   "source": [
    "### Assign 5 user values to the list"
   ]
  },
  {
   "cell_type": "code",
   "execution_count": 54,
   "metadata": {},
   "outputs": [
    {
     "name": "stdout",
     "output_type": "stream",
     "text": [
      "2 3 2 1 3 "
     ]
    }
   ],
   "source": [
    "N = 5\n",
    "numbers = []\n",
    "for i in range(5):\n",
    "\tuser_input = int(input('Enter your input'))\n",
    "\tnumbers.insert(i, user_input)\n",
    "\n",
    "for v in numbers:\n",
    "\tprint (v, end=' ')\n"
   ]
  },
  {
   "cell_type": "markdown",
   "metadata": {},
   "source": [
    "### Assign 5 random values to the list"
   ]
  },
  {
   "cell_type": "code",
   "execution_count": 55,
   "metadata": {},
   "outputs": [
    {
     "name": "stdout",
     "output_type": "stream",
     "text": [
      "79 42 3 47 39 "
     ]
    }
   ],
   "source": [
    "import random\n",
    "N = 5\n",
    "\n",
    "randnums = []\n",
    "for i in range(N):\n",
    "\trandnums.insert(i, random.randint(0,100))\n",
    "\n",
    "for v in randnums:\n",
    "\tprint (v, end=' ')"
   ]
  },
  {
   "cell_type": "markdown",
   "metadata": {},
   "source": [
    "## <p style=\"background-color:grey; color:white\"> Finding Items in Lists with the in Operator </p>"
   ]
  },
  {
   "cell_type": "markdown",
   "metadata": {},
   "source": [
    "#### <p style=\"background-color:grey; color:white\"> Using <mark> in </mark> Operator </p>\n",
    "#### <a href=\"https://docs.python.org/3/tutorial/datastructures.html#more-on-lists\"> List methods </a>\n",
    "\n",
    "#### <img src=\"https://nimbus-screenshots.s3.amazonaws.com/s/96ec82085f2158f6b65131dfc475632f.png\"> </img>"
   ]
  },
  {
   "cell_type": "markdown",
   "metadata": {},
   "source": [
    "### Find an item in a list\n",
    "<mark> in </mark>"
   ]
  },
  {
   "cell_type": "code",
   "execution_count": 19,
   "metadata": {},
   "outputs": [
    {
     "name": "stdout",
     "output_type": "stream",
     "text": [
      "Target found in the list\n"
     ]
    }
   ],
   "source": [
    "num_list = [10, 20, 30, 40, 50]\n",
    "\n",
    "target = int(input('Enter the target number'))\n",
    "\n",
    "if target in num_list:\n",
    "\tprint (\"Target found in the list\")\n",
    "else:\n",
    "\tprint (\"Target is not in the list\")"
   ]
  },
  {
   "cell_type": "markdown",
   "metadata": {},
   "source": [
    "Find an item with index number"
   ]
  },
  {
   "cell_type": "code",
   "execution_count": 22,
   "metadata": {},
   "outputs": [
    {
     "name": "stdout",
     "output_type": "stream",
     "text": [
      "Target is not in the list\n"
     ]
    }
   ],
   "source": [
    "num_list = [10, 20, 30, 40, 50]\n",
    "\n",
    "target = int(input('Enter the target number'))\n",
    "\n",
    "if target in num_list:\n",
    "\tprint (\"Target found at the index \", num_list.index(target))\n",
    "else:\n",
    "\tprint (\"Target is not in the list\")"
   ]
  },
  {
   "cell_type": "markdown",
   "metadata": {},
   "source": [
    "#### Traditional way to find an item"
   ]
  },
  {
   "cell_type": "code",
   "execution_count": 29,
   "metadata": {},
   "outputs": [
    {
     "name": "stdout",
     "output_type": "stream",
     "text": [
      "Target is not in the list\n"
     ]
    }
   ],
   "source": [
    "num_list = [10, 20, 30, 40, 50]\n",
    "\n",
    "target = int(input('Enter the target number'))\n",
    "\n",
    "for i in range(len(num_list)):\n",
    "\tif num_list[i] == target:\n",
    "\t\tprint (\"Target found at the index \", i) \n",
    "\t\tbreak\n",
    "if ( i == len(num_list)-1):\n",
    "\tprint (\"Target is not in the list\")"
   ]
  },
  {
   "cell_type": "markdown",
   "metadata": {},
   "source": [
    "### Append method"
   ]
  },
  {
   "cell_type": "code",
   "execution_count": null,
   "metadata": {},
   "outputs": [
    {
     "data": {
      "text/plain": [
       "[10, 20, 30, 40, 50, 60]"
      ]
     },
     "metadata": {},
     "output_type": "display_data"
    }
   ],
   "source": [
    "num1 = [10, 20, 30, 40, 50]\n",
    "num1.append(60)\n",
    "num1"
   ]
  },
  {
   "cell_type": "code",
   "execution_count": null,
   "metadata": {},
   "outputs": [],
   "source": [
    "\n",
    "num1 = []\n",
    "num1[0] = 10  # ERROR\n"
   ]
  },
  {
   "cell_type": "markdown",
   "metadata": {},
   "source": [
    "### Append() an item or list?"
   ]
  },
  {
   "cell_type": "code",
   "execution_count": 76,
   "metadata": {},
   "outputs": [
    {
     "data": {
      "text/plain": [
       "[10, 20, 30, [40, 50, 60]]"
      ]
     },
     "execution_count": 76,
     "metadata": {},
     "output_type": "execute_result"
    }
   ],
   "source": [
    "num1 = [10, 20, 30]\n",
    "num2 = [40, 50, 60]\n",
    "\n",
    "num1.append(num2) \t# Not [10, 20, 30, 40, 50. 60]\n",
    "num1\n"
   ]
  },
  {
   "cell_type": "markdown",
   "metadata": {},
   "source": [
    "### Extend()  "
   ]
  },
  {
   "cell_type": "code",
   "execution_count": 78,
   "metadata": {},
   "outputs": [
    {
     "data": {
      "text/plain": [
       "[10, 20, 30, 40, 50, 60]"
      ]
     },
     "execution_count": 78,
     "metadata": {},
     "output_type": "execute_result"
    }
   ],
   "source": [
    "num1 = [10, 20, 30]\n",
    "num2 = [40, 50, 60]\n",
    "\n",
    "num1.extend(num2)\n",
    "num1\n"
   ]
  },
  {
   "cell_type": "markdown",
   "metadata": {},
   "source": [
    "### count() : number of elements with the specified value"
   ]
  },
  {
   "cell_type": "code",
   "execution_count": 79,
   "metadata": {},
   "outputs": [
    {
     "data": {
      "text/plain": [
       "5"
      ]
     },
     "execution_count": 79,
     "metadata": {},
     "output_type": "execute_result"
    }
   ],
   "source": [
    "num1 = [0, 0, 0, 0, 1, 0, 1, 0, 1, 0, 1, 1]\n",
    "\n",
    "num1.count(1) # number of occurrences"
   ]
  },
  {
   "cell_type": "markdown",
   "metadata": {},
   "source": [
    "### pop() : Removes the element at the specified position"
   ]
  },
  {
   "cell_type": "code",
   "execution_count": 46,
   "metadata": {},
   "outputs": [
    {
     "data": {
      "text/plain": [
       "[10]"
      ]
     },
     "execution_count": 46,
     "metadata": {},
     "output_type": "execute_result"
    }
   ],
   "source": [
    "num1 = [10, 20, 30]\n",
    "\n",
    "num1.pop(len(num1)-1)\n",
    "num1"
   ]
  },
  {
   "cell_type": "markdown",
   "metadata": {},
   "source": [
    "### Insert an item into the list\n",
    "### insert()"
   ]
  },
  {
   "cell_type": "code",
   "execution_count": 31,
   "metadata": {},
   "outputs": [
    {
     "name": "stdout",
     "output_type": "stream",
     "text": [
      "15 10 20 30 40 50 "
     ]
    }
   ],
   "source": [
    "num_list = [10, 20, 30, 40, 50]\n",
    "\n",
    "add_val = 15\n",
    "\n",
    "num_list.insert(0, add_val)\n",
    "\n",
    "for v in num_list:\n",
    "\tprint (v, end=' ')\n"
   ]
  },
  {
   "cell_type": "markdown",
   "metadata": {},
   "source": [
    "#### Insert an item at the last index"
   ]
  },
  {
   "cell_type": "code",
   "execution_count": 29,
   "metadata": {},
   "outputs": [
    {
     "name": "stdout",
     "output_type": "stream",
     "text": [
      "[10, 20, 30, 40, 50, 60]\n"
     ]
    }
   ],
   "source": [
    "num_list = [10, 20, 30, 40, 50]\n",
    "\n",
    "num_list.insert(len(num_list), 60)\n",
    "print (num_list)"
   ]
  },
  {
   "cell_type": "markdown",
   "metadata": {},
   "source": [
    "### Insert an intem with out-of-range index"
   ]
  },
  {
   "cell_type": "code",
   "execution_count": 31,
   "metadata": {},
   "outputs": [
    {
     "name": "stdout",
     "output_type": "stream",
     "text": [
      "[10, 20, 30, 40, 50, 60]\n"
     ]
    }
   ],
   "source": [
    "num_list = [10, 20, 30, 40, 50]\n",
    "\n",
    "num_list.insert(10, 60) \t# do not try with uncertain index\n",
    "print (num_list)"
   ]
  },
  {
   "cell_type": "code",
   "execution_count": null,
   "metadata": {},
   "outputs": [],
   "source": [
    "num_list = [10, 20, 30, 40, 50]\n",
    "\n",
    "num_list[5] = 60 \t# ERROR"
   ]
  },
  {
   "cell_type": "markdown",
   "metadata": {},
   "source": [
    "#### Insert an item into sorted list (We need to find the index to insert)\n"
   ]
  },
  {
   "cell_type": "code",
   "execution_count": 46,
   "metadata": {},
   "outputs": [
    {
     "name": "stdout",
     "output_type": "stream",
     "text": [
      "10 20 30 40 50 75 "
     ]
    }
   ],
   "source": [
    "num_list = [10, 20, 30, 40, 50]\n",
    "\n",
    "add_val = 75\n",
    "\n",
    "flag = 0\n",
    "for i in range(len(num_list)):\n",
    "\tif ( num_list[i] > add_val):\n",
    "\t\tnum_list.insert(i, add_val)\n",
    "\t\tflag = 1\n",
    "\t\tbreak\n",
    "if ( flag == 0 ): \n",
    "\tnum_list.insert(i+1, add_val)\n",
    "\n",
    "for v in num_list:\n",
    "\tprint (v, end=' ')"
   ]
  },
  {
   "cell_type": "markdown",
   "metadata": {},
   "source": [
    "#### insert an item into the sorted list. Version 2: for - else  "
   ]
  },
  {
   "cell_type": "code",
   "execution_count": 49,
   "metadata": {},
   "outputs": [
    {
     "name": "stdout",
     "output_type": "stream",
     "text": [
      "10 20 30 40 50 75 "
     ]
    }
   ],
   "source": [
    "num_list = [10, 20, 30, 40, 50]\n",
    "\n",
    "add_val = 75\n",
    "\n",
    "for i in range(len(num_list)):\n",
    "\tif ( num_list[i] > add_val):\n",
    "\t\tnum_list.insert(i, add_val)\n",
    "\t\tbreak\n",
    "else:\n",
    "\tnum_list.insert(i+1, add_val)\n",
    "\n",
    "for v in num_list:\n",
    "\tprint (v, end=' ')"
   ]
  },
  {
   "cell_type": "markdown",
   "metadata": {},
   "source": [
    "#### insert an item into the sorted list. Version 3: while loop"
   ]
  },
  {
   "cell_type": "code",
   "execution_count": 44,
   "metadata": {},
   "outputs": [
    {
     "name": "stdout",
     "output_type": "stream",
     "text": [
      "10 20 30 40 50 65 "
     ]
    }
   ],
   "source": [
    "num_list = [10, 20, 30, 40, 50]\n",
    "\n",
    "add_val = 65  \n",
    "\n",
    "i = 0\n",
    "while i < (len(num_list)):\n",
    "\tif ( num_list[i] > add_val):\n",
    "\t\tnum_list.insert(i, add_val)\n",
    "\t\tbreak\n",
    "\ti += 1\n",
    "else:\n",
    "\tnum_list.insert(i+1, add_val)\n",
    "\n",
    "for v in num_list:\n",
    "\tprint (v, end=' ')"
   ]
  },
  {
   "cell_type": "markdown",
   "metadata": {},
   "source": [
    "#### Sort method of list "
   ]
  },
  {
   "cell_type": "code",
   "execution_count": 5,
   "metadata": {},
   "outputs": [
    {
     "name": "stdout",
     "output_type": "stream",
     "text": [
      "[35, 45, 58, 70, 71]\n"
     ]
    }
   ],
   "source": [
    "import random\n",
    "\n",
    "N = 5\n",
    "rdnums = []\n",
    "for i in range(N):\n",
    "\trdnums.insert(i, random.randint(0,100))\n",
    "\n",
    "rdnums.sort()\n",
    "print (rdnums)\n"
   ]
  },
  {
   "cell_type": "markdown",
   "metadata": {},
   "source": [
    "#### Sorted() <mark>Function</mark> vs list.sort( ) <mark> method </mark>"
   ]
  },
  {
   "cell_type": "code",
   "execution_count": 60,
   "metadata": {},
   "outputs": [
    {
     "name": "stdout",
     "output_type": "stream",
     "text": [
      "[15, 10, 5, 25, 20]\n",
      "[5, 10, 15, 20, 25]\n"
     ]
    }
   ],
   "source": [
    "nums = [15, 10, 5, 25, 20]\n",
    "\n",
    "sorted_nums = sorted(nums)\n",
    "\n",
    "print (nums)\n",
    "print (sorted_nums)"
   ]
  },
  {
   "cell_type": "markdown",
   "metadata": {},
   "source": [
    "#### remove() method\n",
    "#### try - except : Exception handling "
   ]
  },
  {
   "cell_type": "code",
   "execution_count": 61,
   "metadata": {},
   "outputs": [
    {
     "data": {
      "text/plain": [
       "[20, 25, 30, 35]"
      ]
     },
     "execution_count": 61,
     "metadata": {},
     "output_type": "execute_result"
    }
   ],
   "source": [
    "nums = [10, 20, 25, 30, 35]\n",
    "delete_key = int(input('Enter a number'))\n",
    "nums.remove(delete_key)\n",
    "nums"
   ]
  },
  {
   "cell_type": "markdown",
   "metadata": {},
   "source": [
    "#### remove() method\n",
    "#### Try to remove the element that is not in the list "
   ]
  },
  {
   "cell_type": "code",
   "execution_count": null,
   "metadata": {},
   "outputs": [],
   "source": [
    "nums = [10, 20, 25, 30, 35]\n",
    "delete_key = 40 \t\t# 40 is not in the list \n",
    "nums.remove(delete_key)\t\t# Cause an error since the delete key value is not in the list\n",
    "nums"
   ]
  },
  {
   "cell_type": "markdown",
   "metadata": {},
   "source": [
    "#### remove() method\n",
    "#### try - except : Exception handling "
   ]
  },
  {
   "cell_type": "code",
   "execution_count": 64,
   "metadata": {},
   "outputs": [
    {
     "name": "stdout",
     "output_type": "stream",
     "text": [
      "Key Error: There is no value  40\n"
     ]
    }
   ],
   "source": [
    "nums = [10, 20, 25, 30, 35]\n",
    "try:\n",
    "\tdelete_key = 40 \t\t# 40 is not in the list \n",
    "\tnums.remove(delete_key)\t\t# Cause an error since the delete key value is not in the list\n",
    "except ValueError:\n",
    "\tprint ('Key Error: There is no value ', delete_key)\n"
   ]
  },
  {
   "cell_type": "markdown",
   "metadata": {},
   "source": [
    "#### del <mark> statement </mark>\n",
    "#### del : remove an element from a specific index"
   ]
  },
  {
   "cell_type": "code",
   "execution_count": 66,
   "metadata": {},
   "outputs": [
    {
     "data": {
      "text/plain": [
       "[20, 25, 30, 35]"
      ]
     },
     "execution_count": 66,
     "metadata": {},
     "output_type": "execute_result"
    }
   ],
   "source": [
    "nums = [10, 20, 25, 30, 35]\n",
    "\n",
    "del nums[0] \t\t\t# remove the 1st element \n",
    "nums"
   ]
  },
  {
   "cell_type": "markdown",
   "metadata": {},
   "source": [
    "#### reverse()  "
   ]
  },
  {
   "cell_type": "code",
   "execution_count": 82,
   "metadata": {},
   "outputs": [
    {
     "data": {
      "text/plain": [
       "[3, 2, 1]"
      ]
     },
     "execution_count": 82,
     "metadata": {},
     "output_type": "execute_result"
    }
   ],
   "source": [
    "nums = [1, 2, 3]\n",
    "nums.reverse()\n",
    "nums"
   ]
  },
  {
   "cell_type": "markdown",
   "metadata": {},
   "source": [
    "#### min() and max() <mark> Functions </mark>"
   ]
  },
  {
   "cell_type": "code",
   "execution_count": 84,
   "metadata": {},
   "outputs": [
    {
     "name": "stdout",
     "output_type": "stream",
     "text": [
      "5\n",
      "25\n"
     ]
    }
   ],
   "source": [
    "nums = [15, 5, 10, 25, 20]\n",
    "\n",
    "print (min(nums))\n",
    "print (max(nums))"
   ]
  },
  {
   "cell_type": "markdown",
   "metadata": {},
   "source": [
    "## <p style=\"background-color:grey; color:white\"> Copying Lists</p>"
   ]
  },
  {
   "cell_type": "markdown",
   "metadata": {},
   "source": [
    "### is operator\n"
   ]
  },
  {
   "cell_type": "code",
   "execution_count": 85,
   "metadata": {},
   "outputs": [
    {
     "data": {
      "text/plain": [
       "True"
      ]
     },
     "execution_count": 85,
     "metadata": {},
     "output_type": "execute_result"
    }
   ],
   "source": [
    "a = 10\n",
    "b = a\n",
    "a is b"
   ]
  },
  {
   "cell_type": "code",
   "execution_count": 88,
   "metadata": {},
   "outputs": [
    {
     "name": "stdout",
     "output_type": "stream",
     "text": [
      "20\n",
      "10\n"
     ]
    },
    {
     "data": {
      "text/plain": [
       "False"
      ]
     },
     "execution_count": 88,
     "metadata": {},
     "output_type": "execute_result"
    }
   ],
   "source": [
    "b = 20\n",
    "print (b)\n",
    "print (a)\n",
    "a is b"
   ]
  },
  {
   "cell_type": "markdown",
   "metadata": {},
   "source": [
    "### For the string"
   ]
  },
  {
   "cell_type": "code",
   "execution_count": 89,
   "metadata": {},
   "outputs": [
    {
     "data": {
      "text/plain": [
       "True"
      ]
     },
     "execution_count": 89,
     "metadata": {},
     "output_type": "execute_result"
    }
   ],
   "source": [
    "str1 = \"string 1\"\n",
    "str2 = str1\n",
    "str1 is str2"
   ]
  },
  {
   "cell_type": "code",
   "execution_count": 91,
   "metadata": {},
   "outputs": [
    {
     "data": {
      "text/plain": [
       "False"
      ]
     },
     "execution_count": 91,
     "metadata": {},
     "output_type": "execute_result"
    }
   ],
   "source": [
    "str2 = \"string 2\"\n",
    "str1 is str2"
   ]
  },
  {
   "cell_type": "markdown",
   "metadata": {},
   "source": [
    "### For the list\n",
    "<img src=\"https://p76.f0.n0.cdn.getcloudapp.com/items/Apuxogdy/18fcc3ed-eaa2-4972-bba0-43b2ebe8627d.jpg?v=0cd7c351468e37a91f12c9edebc7ef4d\">"
   ]
  },
  {
   "cell_type": "code",
   "execution_count": 92,
   "metadata": {},
   "outputs": [
    {
     "data": {
      "text/plain": [
       "True"
      ]
     },
     "execution_count": 92,
     "metadata": {},
     "output_type": "execute_result"
    }
   ],
   "source": [
    "l1 = [10, 20, 30]\n",
    "l2 = l1\n",
    "l1 is l2"
   ]
  },
  {
   "cell_type": "code",
   "execution_count": 93,
   "metadata": {},
   "outputs": [
    {
     "data": {
      "text/plain": [
       "True"
      ]
     },
     "execution_count": 93,
     "metadata": {},
     "output_type": "execute_result"
    }
   ],
   "source": [
    "l2[0] = 100\n",
    "l1 is l2"
   ]
  },
  {
   "cell_type": "code",
   "execution_count": 96,
   "metadata": {},
   "outputs": [
    {
     "name": "stdout",
     "output_type": "stream",
     "text": [
      "[100, 20, 30]\n"
     ]
    }
   ],
   "source": [
    "print (l1)"
   ]
  },
  {
   "cell_type": "code",
   "execution_count": 94,
   "metadata": {},
   "outputs": [
    {
     "data": {
      "text/plain": [
       "False"
      ]
     },
     "execution_count": 94,
     "metadata": {},
     "output_type": "execute_result"
    }
   ],
   "source": [
    "l2 = [40, 50, 60]\n",
    "l1 is l2"
   ]
  },
  {
   "cell_type": "code",
   "execution_count": null,
   "metadata": {},
   "outputs": [],
   "source": []
  },
  {
   "cell_type": "markdown",
   "metadata": {},
   "source": [
    "## <p style=\"background-color:grey; color:white\"> Two Dimensional Lists</p>"
   ]
  },
  {
   "cell_type": "markdown",
   "metadata": {},
   "source": [
    "<img src=\"https://nimbus-screenshots.s3.amazonaws.com/s/cec30e20a1ae0c92c974b9451f723a3e.png\">"
   ]
  },
  {
   "cell_type": "code",
   "execution_count": 97,
   "metadata": {},
   "outputs": [
    {
     "data": {
      "text/plain": [
       "[[10, 11, 12, 13, 14], [20, 21, 22, 23, 24], [30, 31, 32, 33, 34]]"
      ]
     },
     "execution_count": 97,
     "metadata": {},
     "output_type": "execute_result"
    }
   ],
   "source": [
    "numbers = [ \t[10, 11, 12, 13, 14],\n",
    "\t\t[20, 21, 22, 23, 24],\n",
    "\t\t[30, 31, 32, 33, 34]]\n",
    "\n",
    "numbers"
   ]
  },
  {
   "cell_type": "code",
   "execution_count": 98,
   "metadata": {},
   "outputs": [
    {
     "name": "stdout",
     "output_type": "stream",
     "text": [
      "13\n"
     ]
    }
   ],
   "source": [
    "print (numbers[0][3])"
   ]
  },
  {
   "cell_type": "markdown",
   "metadata": {},
   "source": [
    "## Get a summation of each row"
   ]
  },
  {
   "cell_type": "code",
   "execution_count": 17,
   "metadata": {},
   "outputs": [
    {
     "name": "stdout",
     "output_type": "stream",
     "text": [
      "The summation of row 0: 60\n",
      "The summation of row 1: 110\n",
      "The summation of row 2: 160\n"
     ]
    }
   ],
   "source": [
    "\n",
    "rnum = 3\n",
    "cnum = 5\n",
    "numbers = [ \t[10, 11, 12, 13, 14],\n",
    "\t\t[20, 21, 22, 23, 24],\n",
    "\t\t[30, 31, 32, 33, 34]]\n",
    "\n",
    "\n",
    "for i in range(rnum):\n",
    "\trsum = 0\n",
    "\tfor j in range(cnum):\n",
    "\t\trsum += numbers[i][j]\n",
    "\tprint (\"The summation of row {0}: {1}\".format(i, rsum))"
   ]
  },
  {
   "cell_type": "markdown",
   "metadata": {},
   "source": [
    "## Get a summation of each column "
   ]
  },
  {
   "cell_type": "code",
   "execution_count": 18,
   "metadata": {},
   "outputs": [
    {
     "name": "stdout",
     "output_type": "stream",
     "text": [
      "The summation of column 0: 60\n",
      "The summation of column 1: 63\n",
      "The summation of column 2: 66\n",
      "The summation of column 3: 69\n",
      "The summation of column 4: 72\n"
     ]
    }
   ],
   "source": [
    "\n",
    "rnum = 3\n",
    "cnum = 5\n",
    "numbers = [ \t[10, 11, 12, 13, 14],\n",
    "\t\t[20, 21, 22, 23, 24],\n",
    "\t\t[30, 31, 32, 33, 34]]\n",
    "\n",
    "\n",
    "for i in range(cnum):\n",
    "\tcsum = 0\n",
    "\tfor j in range(rnum):\n",
    "\t\tcsum += numbers[j][i]\n",
    "\tprint (\"The summation of column {0}: {1}\".format(i, csum))"
   ]
  },
  {
   "cell_type": "markdown",
   "metadata": {},
   "source": [
    "## Get a summation of each row with built-in function sum() "
   ]
  },
  {
   "cell_type": "code",
   "execution_count": 24,
   "metadata": {},
   "outputs": [
    {
     "name": "stdout",
     "output_type": "stream",
     "text": [
      "The summation of row 0: 60\n",
      "The summation of row 1: 110\n",
      "The summation of row 2: 160\n"
     ]
    },
    {
     "data": {
      "text/plain": [
       "[30, 31, 32, 33, 34]"
      ]
     },
     "execution_count": 24,
     "metadata": {},
     "output_type": "execute_result"
    }
   ],
   "source": [
    "rnum = 3\n",
    "cnum = 5\n",
    "numbers = [ \t[10, 11, 12, 13, 14],\n",
    "\t\t[20, 21, 22, 23, 24],\n",
    "\t\t[30, 31, 32, 33, 34]]\n",
    "for i in range(rnum):\n",
    "\trow_sum = sum(numbers[i])\n",
    "\tprint (\"The summation of row {0}: {1}\".format(i, row_sum))\n",
    "\n",
    "max(numbers)"
   ]
  },
  {
   "cell_type": "markdown",
   "metadata": {},
   "source": [
    "## Count the cross shape which consists of '1'"
   ]
  },
  {
   "cell_type": "code",
   "execution_count": 21,
   "metadata": {},
   "outputs": [
    {
     "name": "stdout",
     "output_type": "stream",
     "text": [
      "The total cross shape is  5\n"
     ]
    }
   ],
   "source": [
    "rnum = 10\n",
    "cnum = 10\n",
    "numbers = [ \t[0, 0, 0, 0, 0, 0, 0, 0, 0, 0],\n",
    "\t\t[0, 1, 0, 0, 0, 1, 0, 0, 1, 0],\n",
    "\t\t[1, 1, 1, 0, 1, 1, 1, 1, 1, 1],\n",
    "\t\t[0, 1, 0, 0, 1, 1, 1, 0, 1, 0],\n",
    "\t\t[0, 1, 0, 0, 0, 1, 0, 1, 0, 0],\n",
    "\t\t[0, 0, 0, 0, 0, 0, 0, 1, 1, 0],\n",
    "\t\t[0, 1, 0, 0, 0, 1, 0, 0, 0, 0],\n",
    "\t\t[0, 1, 1, 1, 0, 1, 0, 0, 1, 0],\n",
    "\t\t[0, 1, 0, 1, 0, 1, 0, 1, 1, 1],\n",
    "\t\t[0, 0, 0, 0, 0, 0, 0, 0, 1, 0]]\n",
    "\n",
    "cnt = 0\n",
    "for i in range(1, rnum-1):\n",
    "\tfor j in range(1, cnum-1):\n",
    "\t\tif ( numbers[i][j]):\n",
    "\t\t\tif ( numbers[i-1][j] and numbers[i+1][j] and numbers[i][j-1] and numbers[i][j+1]):\n",
    "\t\t\t\tcnt += 1\n",
    "\n",
    "print (\"The total cross shape is \", cnt)\n"
   ]
  },
  {
   "cell_type": "markdown",
   "metadata": {},
   "source": [
    "## Find the greatest number in 2 dimensional number\n",
    "#### 1) Take the row and column number from the user\n",
    "#### 2) Fill in the matrix with the random numbers\n",
    "#### 3) Find the greatest number in the matrix"
   ]
  },
  {
   "cell_type": "markdown",
   "metadata": {},
   "source": [
    "***\n",
    "# 2) Tuples\n",
    "### Concept: A tuple is an <mark> immutable </mark> sequence, \n",
    "### which means that its contents cannot be changed."
   ]
  },
  {
   "cell_type": "code",
   "execution_count": 25,
   "metadata": {},
   "outputs": [
    {
     "name": "stdout",
     "output_type": "stream",
     "text": [
      "(1, 2, 3, 4, 5)\n"
     ]
    }
   ],
   "source": [
    "my_tuple = (1, 2, 3, 4, 5)\n",
    "print (my_tuple)"
   ]
  },
  {
   "cell_type": "markdown",
   "metadata": {},
   "source": [
    "#### Immutable"
   ]
  },
  {
   "cell_type": "code",
   "execution_count": null,
   "metadata": {},
   "outputs": [],
   "source": [
    "my_tuple = (10, 20, 30)\n",
    "\n",
    "my_tuple[0] = 0 \t# ERROR"
   ]
  },
  {
   "cell_type": "code",
   "execution_count": null,
   "metadata": {},
   "outputs": [],
   "source": [
    "del my_tuple[0]\t\t# ERROR"
   ]
  },
  {
   "cell_type": "code",
   "execution_count": 39,
   "metadata": {},
   "outputs": [
    {
     "name": "stdout",
     "output_type": "stream",
     "text": [
      "10\n"
     ]
    }
   ],
   "source": [
    "print (my_tuple[0]) \t# Indexing is okay"
   ]
  },
  {
   "cell_type": "code",
   "execution_count": null,
   "metadata": {},
   "outputs": [],
   "source": []
  },
  {
   "cell_type": "markdown",
   "metadata": {},
   "source": [
    "### What is the difference between lists and tuples\n",
    "### <mark> Immutability </mark>\n"
   ]
  },
  {
   "cell_type": "markdown",
   "metadata": {},
   "source": [
    "<img src=\"https://nimbus-screenshots.s3.amazonaws.com/s/4d7d8a62dead41859692394cdcf12ecf.png\">"
   ]
  },
  {
   "cell_type": "markdown",
   "metadata": {},
   "source": [
    "<img src=\"https://nimbus-screenshots.s3.amazonaws.com/s/3b617274d3305b6b1c551ef439e90aa5.png\">"
   ]
  },
  {
   "cell_type": "code",
   "execution_count": 28,
   "metadata": {},
   "outputs": [
    {
     "name": "stdout",
     "output_type": "stream",
     "text": [
      "3\n",
      "30\n",
      "It contains 10 \n"
     ]
    }
   ],
   "source": [
    "my_tuple = (10, 20, 30)\n",
    "\n",
    "print (len(my_tuple))\n",
    "print (max(my_tuple))\n",
    "\n",
    "if 10 in my_tuple:\n",
    "\tprint (\"It contains 10 \")"
   ]
  },
  {
   "cell_type": "markdown",
   "metadata": {},
   "source": [
    "### To create a single element tuple"
   ]
  },
  {
   "cell_type": "code",
   "execution_count": 27,
   "metadata": {},
   "outputs": [
    {
     "name": "stdout",
     "output_type": "stream",
     "text": [
      "\u001b[0;31mType:\u001b[0m        int\n",
      "\u001b[0;31mString form:\u001b[0m 10\n",
      "\u001b[0;31mDocstring:\u001b[0m  \n",
      "int([x]) -> integer\n",
      "int(x, base=10) -> integer\n",
      "\n",
      "Convert a number or string to an integer, or return 0 if no arguments\n",
      "are given.  If x is a number, return x.__int__().  For floating point\n",
      "numbers, this truncates towards zero.\n",
      "\n",
      "If x is not a number or if base is given, then x must be a string,\n",
      "bytes, or bytearray instance representing an integer literal in the\n",
      "given base.  The literal can be preceded by '+' or '-' and be surrounded\n",
      "by whitespace.  The base defaults to 10.  Valid bases are 0 and 2-36.\n",
      "Base 0 means to interpret the base from the string as an integer literal.\n",
      ">>> int('0b100', base=0)\n",
      "4\n"
     ]
    }
   ],
   "source": [
    "value = (10)\n",
    "\n",
    "value?\t\t# value is an interger "
   ]
  },
  {
   "cell_type": "code",
   "execution_count": 40,
   "metadata": {},
   "outputs": [
    {
     "name": "stdout",
     "output_type": "stream",
     "text": [
      "\u001b[0;31mType:\u001b[0m        tuple\n",
      "\u001b[0;31mString form:\u001b[0m (10,)\n",
      "\u001b[0;31mLength:\u001b[0m      1\n",
      "\u001b[0;31mDocstring:\u001b[0m  \n",
      "Built-in immutable sequence.\n",
      "\n",
      "If no argument is given, the constructor returns an empty tuple.\n",
      "If iterable is specified the tuple is initialized from iterable's items.\n",
      "\n",
      "If the argument is a tuple, the return value is the same object.\n"
     ]
    }
   ],
   "source": [
    "value = (10, )\t # value is a tuple\n",
    "value?"
   ]
  },
  {
   "cell_type": "markdown",
   "metadata": {},
   "source": [
    "<img src=\"https://nimbus-screenshots.s3.amazonaws.com/s/8bb0f967a09719bffb769282971374e9.png\">"
   ]
  },
  {
   "cell_type": "markdown",
   "metadata": {},
   "source": [
    "## Comparison between list and tuple and set\n",
    "<img src=\"https://nimbus-screenshots.s3.amazonaws.com/s/be1dba984959505927758e7863a83216.png\">"
   ]
  },
  {
   "cell_type": "markdown",
   "metadata": {},
   "source": [
    "## Converting Between lists and Tuples"
   ]
  },
  {
   "cell_type": "code",
   "execution_count": 42,
   "metadata": {},
   "outputs": [
    {
     "name": "stdout",
     "output_type": "stream",
     "text": [
      "[10, 20, 30]\n",
      "(10, 20, 30)\n"
     ]
    }
   ],
   "source": [
    "num_tuples = (10, 20, 30)\n",
    "num_lists = list(num_tuples)\n",
    "\n",
    "print (num_lists)\n",
    "print (num_tuples)"
   ]
  },
  {
   "cell_type": "code",
   "execution_count": 43,
   "metadata": {},
   "outputs": [
    {
     "name": "stdout",
     "output_type": "stream",
     "text": [
      "(10, 20, 30)\n"
     ]
    }
   ],
   "source": [
    "\n",
    "num_tuples = tuple(num_lists)\n",
    "print (num_tuples)\n"
   ]
  },
  {
   "cell_type": "code",
   "execution_count": 1,
   "metadata": {},
   "outputs": [
    {
     "name": "stdout",
     "output_type": "stream",
     "text": [
      "0\n",
      "1\n",
      "2\n",
      "3\n"
     ]
    }
   ],
   "source": [
    "import numpy as np\n",
    "\n",
    "for i in np.arange(4):\n",
    "\tprint (i)\n",
    "\n",
    "\t"
   ]
  }
 ],
 "metadata": {
  "interpreter": {
   "hash": "a614fddea9d37e019a720cc724ab725ff28be4e0e64e91a691a8738e1909110d"
  },
  "kernelspec": {
   "display_name": "Python 3.9.7 ('base')",
   "language": "python",
   "name": "python3"
  },
  "language_info": {
   "codemirror_mode": {
    "name": "ipython",
    "version": 3
   },
   "file_extension": ".py",
   "mimetype": "text/x-python",
   "name": "python",
   "nbconvert_exporter": "python",
   "pygments_lexer": "ipython3",
   "version": "3.9.7"
  },
  "orig_nbformat": 4
 },
 "nbformat": 4,
 "nbformat_minor": 2
}
