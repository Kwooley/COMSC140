{
 "cells": [
  {
   "cell_type": "markdown",
   "metadata": {},
   "source": [
    "<style>\n",
    "\tp {\n",
    "\t\tbackground-color: grey;\n",
    "\t\tcolor: white;\n",
    "\t\tborder: 3px solid grey\n",
    "\n",
    "\t}\n",
    "</style>\n",
    "\n",
    "\n",
    "## Assignment 5-4\n",
    "<p>\n",
    "Write a function that returns the generator for the non-space alphabet from the original string <br>\n",
    "make a function “getalnum()” that returns the generator (you may use “yield” statement) <br>\n",
    "for the non-space alphabets from the original parameter string value <br>\n",
    "e.g., “Python Programming” → this function will return the generator for “PythonProgramming” <br>\n",
    "\n",
    "</p>\n",
    "\n"
   ]
  },
  {
   "cell_type": "code",
   "execution_count": 3,
   "metadata": {},
   "outputs": [
    {
     "name": "stdout",
     "output_type": "stream",
     "text": [
      "PythonProgramming"
     ]
    }
   ],
   "source": [
    "\n",
    "def getalnum(msg):\n",
    "\tfor v in msg:\n",
    "\t\tif v != ' ':\n",
    "\t\t\tyield v\n",
    "\n",
    "\n",
    "msg = 'Python Programming'\n",
    "res = getalnum(msg)\n",
    "for x in res:\n",
    "\tprint (x, end = '')\n"
   ]
  }
 ],
 "metadata": {
  "interpreter": {
   "hash": "a614fddea9d37e019a720cc724ab725ff28be4e0e64e91a691a8738e1909110d"
  },
  "kernelspec": {
   "display_name": "Python 3.9.7 ('base')",
   "language": "python",
   "name": "python3"
  },
  "language_info": {
   "codemirror_mode": {
    "name": "ipython",
    "version": 3
   },
   "file_extension": ".py",
   "mimetype": "text/x-python",
   "name": "python",
   "nbconvert_exporter": "python",
   "pygments_lexer": "ipython3",
   "version": "3.9.7"
  },
  "orig_nbformat": 4
 },
 "nbformat": 4,
 "nbformat_minor": 2
}
