{
 "cells": [
  {
   "cell_type": "markdown",
   "metadata": {},
   "source": [
    "<style>\n",
    "\tp {\n",
    "\t\tbackground-color: grey;\n",
    "\t\tcolor: white;\n",
    "\t\tborder: 3px solid grey\n",
    "\n",
    "\t}\n",
    "</style>\n",
    "\n",
    "\n",
    "## Assignment 5-3\n",
    "<p>\n",
    "Write a program with a lambda function “isspace()” that <br>\n",
    "- strip the space from the original string and then return the stripped string <br>\n",
    "- the lambda function “isspace()” will check the letter is space character or not <br>\n",
    "\n",
    "</p>\n",
    "\n"
   ]
  },
  {
   "cell_type": "code",
   "execution_count": 6,
   "metadata": {},
   "outputs": [
    {
     "name": "stdout",
     "output_type": "stream",
     "text": [
      "Pythonprogrmmingsection2\n"
     ]
    }
   ],
   "source": [
    "\n",
    "isspace = lambda x : x == ' '\n",
    "\n",
    "\n",
    "def mystrip(msg):\n",
    "\tres = ''\n",
    "\tfor x in msg:\n",
    "\t\tif not isspace(x):\n",
    "\t\t\tres += x\n",
    "\treturn res\n",
    "\n",
    "msg = 'Python programming section 2'\n",
    "res = mystrip(msg)\n",
    "print (res)\n",
    "\n"
   ]
  }
 ],
 "metadata": {
  "interpreter": {
   "hash": "a614fddea9d37e019a720cc724ab725ff28be4e0e64e91a691a8738e1909110d"
  },
  "kernelspec": {
   "display_name": "Python 3.9.7 ('base')",
   "language": "python",
   "name": "python3"
  },
  "language_info": {
   "codemirror_mode": {
    "name": "ipython",
    "version": 3
   },
   "file_extension": ".py",
   "mimetype": "text/x-python",
   "name": "python",
   "nbconvert_exporter": "python",
   "pygments_lexer": "ipython3",
   "version": "3.9.7"
  },
  "orig_nbformat": 4
 },
 "nbformat": 4,
 "nbformat_minor": 2
}
