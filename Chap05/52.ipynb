{
 "cells": [
  {
   "cell_type": "markdown",
   "metadata": {},
   "source": [
    "<style>\n",
    "\tp {\n",
    "\t\tbackground-color: grey;\n",
    "\t\tcolor: white;\n",
    "\t\tborder: 3px solid grey\n",
    "\n",
    "\t}\n",
    "</style>\n",
    "\n",
    "\n",
    "## Assignment 5-2\n",
    "<p>\n",
    "Write a program with a function “stripspace()” that <br>\n",
    "reads two lists of integers and return the sum of multiplying the corresponding list items <br>\n",
    "Assumption: two lists must be the same <br>\n",
    "</p>\n",
    "\n"
   ]
  },
  {
   "cell_type": "code",
   "execution_count": 2,
   "metadata": {},
   "outputs": [
    {
     "name": "stdout",
     "output_type": "stream",
     "text": [
      " PPS\n"
     ]
    }
   ],
   "source": [
    "def strstrip(str):\n",
    "\tres = ' '\n",
    "\tfor x in str:\n",
    "\t\tif  x.isupper():\n",
    "\t\t\tres += x\n",
    "\treturn res\n",
    "\n",
    "if __name__ == '__main__':\n",
    "\tmessage = \"Python Programming Section 2\"\n",
    "\treturnval = strstrip(message)\n",
    "\tprint (returnval)"
   ]
  }
 ],
 "metadata": {
  "interpreter": {
   "hash": "a614fddea9d37e019a720cc724ab725ff28be4e0e64e91a691a8738e1909110d"
  },
  "kernelspec": {
   "display_name": "Python 3.9.7 ('base')",
   "language": "python",
   "name": "python3"
  },
  "language_info": {
   "codemirror_mode": {
    "name": "ipython",
    "version": 3
   },
   "file_extension": ".py",
   "mimetype": "text/x-python",
   "name": "python",
   "nbconvert_exporter": "python",
   "pygments_lexer": "ipython3",
   "version": "3.9.7"
  },
  "orig_nbformat": 4
 },
 "nbformat": 4,
 "nbformat_minor": 2
}
