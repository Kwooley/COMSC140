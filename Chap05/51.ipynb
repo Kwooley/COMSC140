{
 "cells": [
  {
   "cell_type": "markdown",
   "metadata": {},
   "source": [
    "<style>\n",
    "\tp {\n",
    "\t\tbackground-color: grey;\n",
    "\t\tcolor: white;\n",
    "\t\tborder: 3px solid grey\n",
    "\n",
    "\t}\n",
    "</style>\n",
    "\n",
    "\n",
    "## Assignment 5-1\n",
    "<p>\n",
    "\n",
    "Write a program with a function “sumProduct()” that <br>\n",
    "reads two lists of integers and outputs the sum of multiplying the corresponding list items <br>\n",
    "Assumption: two lists must be the same <br>\n",
    "</p>\n",
    "\n"
   ]
  },
  {
   "cell_type": "code",
   "execution_count": 5,
   "metadata": {},
   "outputs": [
    {
     "name": "stdout",
     "output_type": "stream",
     "text": [
      "[9, 7, 9]\n",
      "[0, 2, 6]\n",
      "The sum of product is :  33\n"
     ]
    }
   ],
   "source": [
    "\n",
    "import random\n",
    "def sumProduct(l1, l2):\n",
    "\tif len(l1) != len(l2):\n",
    "\t\tprint (\"Not the same length\")\n",
    "\t\tquit()\n",
    "\tsum = 0\n",
    "\tfor i in range(len(l1)):\n",
    "\t\tsum += l1[i] * l2[i]\n",
    "\treturn sum\n",
    "\n",
    "\n",
    "if __name__ == '__main__':\n",
    "\tN = 3\n",
    "\tlist1 = [ random.randint(0, 10) for i in range(N) ]\t\n",
    "\tprint (list1)\n",
    "\tlist2 = [ random.randint(0, 10) for i in range(N) ]\t\n",
    "\tprint (list2)\n",
    "\n",
    "\tresult = sumProduct(list1, list2)\n",
    "\tprint ('The sum of product is : ', result)\n",
    "\n",
    "\n",
    "\n"
   ]
  }
 ],
 "metadata": {
  "interpreter": {
   "hash": "a614fddea9d37e019a720cc724ab725ff28be4e0e64e91a691a8738e1909110d"
  },
  "kernelspec": {
   "display_name": "Python 3.9.7 ('base')",
   "language": "python",
   "name": "python3"
  },
  "language_info": {
   "codemirror_mode": {
    "name": "ipython",
    "version": 3
   },
   "file_extension": ".py",
   "mimetype": "text/x-python",
   "name": "python",
   "nbconvert_exporter": "python",
   "pygments_lexer": "ipython3",
   "version": "3.9.7"
  },
  "orig_nbformat": 4
 },
 "nbformat": 4,
 "nbformat_minor": 2
}
