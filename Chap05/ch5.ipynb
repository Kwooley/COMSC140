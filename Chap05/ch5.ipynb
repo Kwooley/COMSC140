{
 "cells": [
  {
   "cell_type": "markdown",
   "metadata": {},
   "source": [
    "<style>\n",
    "\th1 {\n",
    "\t--\tbackground-color: grey;\n",
    "\t\tcolor: yellow\n",
    "\t\tborder: 3px solid grey\n",
    "\n",
    "\t}\n",
    "\tp {\n",
    "\t\tbackground-color: grey;\n",
    "\t\tcolor: white\n",
    "\t\tborder: 3px solid grey\n",
    "\n",
    "\t}\n",
    "</style>\n",
    "<h1> Chapter 5 Functions</h1>"
   ]
  },
  {
   "cell_type": "markdown",
   "metadata": {},
   "source": [
    "<p style=\"margin-left:40px\">1. 5.1 Introduction to Functions</p>\n",
    "\n",
    "<p style=\"margin-left:40px\">2. 5.2 Defining and Calling a Void Function</p>\n",
    "\n",
    "<p style=\"margin-left:40px\">3. 5.3 Designing a Program to Use Functions</p>\n",
    "\n",
    "<p style=\"margin-left:40px\">4. 5.4 <mark> Local Variables </mark></p>\n",
    "\n",
    "<p style=\"margin-left:40px\">5. 5.5 <mark> Passing Arguments to Functions </mark></p>\n",
    "\n",
    "<p style=\"margin-left:40px\">6. 5.6 Global Variables and Global Constants</p>\n",
    "\n",
    "<p style=\"margin-left:40px\">7. 5.7 Introduction to <mark>Value-Returning Functions </mark>: Generating Random Numbers</p>\n",
    "\n",
    "<p style=\"margin-left:40px\">8. 5.8 Writing Your Own Value-Returning Functions</p>\n",
    "\n",
    "<p style=\"margin-left:40px\">9. 5.9 The math Module</p>\n",
    "\n",
    "<p style=\"margin-left:40px\">10. 5.10 <mark> Storing Functions in Modules <mark> </p>\n",
    "\n",
    "<p style=\"margin-left:40px\">11. 5.11 Turtle Graphics: Modularizing Code with Functions</p>\n"
   ]
  },
  {
   "cell_type": "markdown",
   "metadata": {},
   "source": [
    "<style>\n",
    "\th3{\n",
    "\t\tbackground-color: grey\n",
    "\t\tcolor: white\n",
    "\t}\n",
    "</style>\n",
    "\n",
    "<h3> First example of input function </h3>"
   ]
  },
  {
   "cell_type": "markdown",
   "metadata": {},
   "source": [
    "#### version 1"
   ]
  },
  {
   "cell_type": "code",
   "execution_count": null,
   "metadata": {},
   "outputs": [],
   "source": [
    "def fn():\n",
    "\treturn\n",
    "\n",
    "if __name__ == '__main__':\n",
    "\tfn( )\n",
    "\n"
   ]
  },
  {
   "cell_type": "code",
   "execution_count": null,
   "metadata": {},
   "outputs": [],
   "source": [
    "# Function to return 0 or 1 \n",
    "# if the number is even, return 0, otherwise 1\n",
    "#  checknum ( )\n",
    "\n",
    "def checknum(n):\n",
    "\tif n%2 == 0:\n",
    "\t\treturn 0\n",
    "\telse:\n",
    "\t\treturn 1\n",
    "\n",
    "userinput = int(input())\n",
    "retval = checknum(userinput)\n",
    "\n",
    "\n"
   ]
  },
  {
   "cell_type": "code",
   "execution_count": null,
   "metadata": {},
   "outputs": [],
   "source": [
    "def printlst(l):\n",
    "\taverage = sum(l) / len(l) \n",
    "\tfor v in l:\n",
    "\t\tif ( average > v):\n",
    "\t\t\tprint(l) \n",
    "\n",
    "lst = [1,2,3,4,5,6,7]\n",
    "printlst(lst) # print all numbers less than avg\n",
    "print (l) \n"
   ]
  },
  {
   "cell_type": "code",
   "execution_count": 2,
   "metadata": {},
   "outputs": [
    {
     "name": "stdout",
     "output_type": "stream",
     "text": [
      "3\n"
     ]
    }
   ],
   "source": [
    "\n",
    "def \tgetinput():\n",
    "\tval = int(input())\n",
    "\treturn val\n",
    "\n",
    "userval = getinput()\n",
    "print (userval)\n",
    "\n",
    "\n"
   ]
  },
  {
   "cell_type": "markdown",
   "metadata": {},
   "source": [
    "#### version 2"
   ]
  },
  {
   "cell_type": "code",
   "execution_count": 4,
   "metadata": {},
   "outputs": [
    {
     "name": "stdout",
     "output_type": "stream",
     "text": [
      "3\n"
     ]
    }
   ],
   "source": [
    "\n",
    "def \tgetinput():\n",
    "\tval = int(input())\n",
    "\treturn val\n",
    "\n",
    "def \tmain():\n",
    "\tuserval = getinput()\n",
    "\tprint (userval)\n",
    "\n",
    "\n",
    "if __name__ == '__main__':\n",
    "\tmain()\n",
    "\n"
   ]
  },
  {
   "cell_type": "markdown",
   "metadata": {},
   "source": [
    "<style>\n",
    "\th3{\n",
    "\t\tbackground-color: grey\n",
    "\t\tcolor: white\n",
    "\t}\n",
    "</style>\n",
    "\n",
    "<h3> Local Variables </h3>"
   ]
  },
  {
   "cell_type": "code",
   "execution_count": 7,
   "metadata": {},
   "outputs": [
    {
     "name": "stdout",
     "output_type": "stream",
     "text": [
      "2\n"
     ]
    }
   ],
   "source": [
    "def \tgetinput():\n",
    "\tval = int(input())\n",
    "\treturn val\n",
    "\n",
    "def \tmain():\n",
    "\tuserval = getinput()\n",
    "\tprint (userval)\n",
    "\t# print (val)\n",
    "\n",
    "if __name__ == '__main__':\n",
    "\tmain()\n",
    "\t\n"
   ]
  },
  {
   "cell_type": "code",
   "execution_count": 9,
   "metadata": {},
   "outputs": [
    {
     "name": "stdout",
     "output_type": "stream",
     "text": [
      "30\n"
     ]
    }
   ],
   "source": [
    "def getsum(n1, n2):\n",
    "\tval = n1 + n2\n",
    "\treturn val\n",
    "\n",
    "def main():\n",
    "\ta = 10; b = 20\n",
    "\tuserval = getsum(a, b)\n",
    "\tprint (userval)\n",
    "\n",
    "if __name__ == '__main__':\n",
    "\tmain()\n"
   ]
  },
  {
   "cell_type": "markdown",
   "metadata": {},
   "source": [
    "<style>\n",
    "\tp {\n",
    "\t\tbackground-color: grey;\n",
    "\t\tcolor: white;\n",
    "\t\tborder: 3px solid grey\n",
    "\n",
    "\t}\n",
    "</style>\n",
    "\n",
    "<p> Making Changes to Parameters </p>\n"
   ]
  },
  {
   "cell_type": "code",
   "execution_count": 11,
   "metadata": {},
   "outputs": [
    {
     "name": "stdout",
     "output_type": "stream",
     "text": [
      "The value of parameter n1 and n2 are 2 and 3\n",
      "The value of a and b are 0 and 0\n"
     ]
    }
   ],
   "source": [
    "\n",
    "def getinput(n1, n2):\n",
    "\tn1 = input()\n",
    "\tn2 = input()\n",
    "\tprint (\"The value of parameter n1 and n2 are {0} and {1}\".format(n1, n2))\n",
    "\n",
    "def main():\n",
    "\ta = 0; b = 0\n",
    "\tgetinput(a, b)\n",
    "\tprint (\"The value of a and b are {0} and {1}\".format(a, b))\n",
    "\n",
    "if __name__ == '__main__':\n",
    "\tmain()\n"
   ]
  },
  {
   "cell_type": "markdown",
   "metadata": {},
   "source": [
    "<style>\n",
    "\tp {\n",
    "\t\tbackground-color: grey;\n",
    "\t\tcolor: white;\n",
    "\t\tborder: 3px solid grey\n",
    "\n",
    "\t}\n",
    "</style>\n",
    "\n",
    "<p> Making Changes to Parameters 2 </p>\n"
   ]
  },
  {
   "cell_type": "code",
   "execution_count": 14,
   "metadata": {},
   "outputs": [
    {
     "name": "stdout",
     "output_type": "stream",
     "text": [
      "The value of parameter l1  ['1', '2', '3']\n",
      "The value of list1 ['1', '2', '3']\n"
     ]
    }
   ],
   "source": [
    "\n",
    "def getinput(l1):\n",
    "\tl1.append(input())\n",
    "\tl1.append(input())\n",
    "\tl1.append(input())\n",
    "\tprint (\"The value of parameter l1 \", l1)\n",
    "\n",
    "def main():\n",
    "\tlist1 = []\t\n",
    "\tgetinput(list1)\n",
    "\tprint (\"The value of list1\", list1);\n",
    "\n",
    "if __name__ == '__main__':\n",
    "\tmain()\n"
   ]
  },
  {
   "cell_type": "markdown",
   "metadata": {},
   "source": [
    "<style>\n",
    "\tp {\n",
    "\t\tbackground-color: grey;\n",
    "\t\tcolor: white;\n",
    "\t\tborder: 3px solid grey\n",
    "\n",
    "\t}\n",
    "</style>\n",
    "\n",
    "<p> return more than one value </p>\n"
   ]
  },
  {
   "cell_type": "code",
   "execution_count": 8,
   "metadata": {},
   "outputs": [
    {
     "name": "stdout",
     "output_type": "stream",
     "text": [
      "2\n",
      "3\n"
     ]
    }
   ],
   "source": [
    "\n",
    "def getinput():\n",
    "\tval1 = input()\n",
    "\tval2 = input()\n",
    "\treturn val1, val2\n",
    "\n",
    "def main():\n",
    "\tnum1, num2 = getinput()\t\n",
    "\tprint (num1)\n",
    "\tprint (num2)\n",
    "\n",
    "if __name__ == '__main__':\n",
    "\tmain()\n"
   ]
  },
  {
   "cell_type": "markdown",
   "metadata": {},
   "source": [
    "<style>\n",
    "\tp {\n",
    "\t\tbackground-color: grey;\n",
    "\t\tcolor: white;\n",
    "\t\tborder: 3px solid grey\n",
    "\n",
    "\t}\n",
    "</style>\n",
    "\n",
    "<p> Keyword Arguments </p>\n"
   ]
  },
  {
   "cell_type": "code",
   "execution_count": 20,
   "metadata": {},
   "outputs": [
    {
     "name": "stdout",
     "output_type": "stream",
     "text": [
      " N1 is  200\n",
      " N2 is  100\n",
      "The value of total is 300\n"
     ]
    }
   ],
   "source": [
    "\n",
    "def getsum(n1, n2):\n",
    "\tprint (\" N1 is \" , n1);\n",
    "\tprint (\" N2 is \" , n2);\n",
    "\treturn n1 + n2\n",
    "\n",
    "def main():\n",
    "\ttotal = getsum(n2=100, n1=200)\n",
    "\tprint (\"The value of total is {0}\".format(total))\n",
    "\n",
    "if __name__ == '__main__':\n",
    "\tmain()"
   ]
  },
  {
   "cell_type": "markdown",
   "metadata": {},
   "source": [
    "<style>\n",
    "\tp {\n",
    "\t\tbackground-color: grey;\n",
    "\t\tcolor: white;\n",
    "\t\tborder: 3px solid grey\n",
    "\n",
    "\t}\n",
    "</style>\n",
    "\n",
    "<p> Global Variables </p>\n"
   ]
  },
  {
   "cell_type": "code",
   "execution_count": 33,
   "metadata": {},
   "outputs": [
    {
     "name": "stdout",
     "output_type": "stream",
     "text": [
      "Before call myfunction1  100\n",
      "Inside the function  111\n",
      "After call myfunction1  111\n"
     ]
    }
   ],
   "source": [
    "gvariable = 100\n",
    "\n",
    "def myfunction1():\n",
    "\tprint ('Inside the function ', gvariable)\n",
    "\n",
    "\n",
    "def main():\n",
    "\tglobal gvariable\n",
    "\tprint ('Before call myfunction1 ', gvariable)\n",
    "\tgvariable += 11\n",
    "\tmyfunction1()\n",
    "\tprint ('After call myfunction1 ', gvariable)\n",
    "\n",
    "if __name__ == '__main__':\n",
    "\tmain()"
   ]
  },
  {
   "cell_type": "markdown",
   "metadata": {},
   "source": [
    "<style>\n",
    "\tp {\n",
    "\t\tbackground-color: grey;\n",
    "\t\tcolor: white;\n",
    "\t\tborder: 3px solid grey\n",
    "\n",
    "\t}\n",
    "</style>\n",
    "\n",
    "<p> Returning multiple values</p>\n"
   ]
  },
  {
   "cell_type": "code",
   "execution_count": 22,
   "metadata": {},
   "outputs": [
    {
     "name": "stdout",
     "output_type": "stream",
     "text": [
      "The value of num1 and num2 are 2 and 3\n"
     ]
    }
   ],
   "source": [
    "\n",
    "def getinput():\n",
    "\tn1 = input()\n",
    "\tn2 = input()\n",
    "\treturn n1, n2\n",
    "\n",
    "def main():\n",
    "\tnum1, num2 = getinput()\n",
    "\tprint (\"The value of num1 and num2 are {0} and {1}\".format(num1, num2))\n",
    "\n",
    "if __name__ == '__main__':\n",
    "\tmain()\n"
   ]
  },
  {
   "cell_type": "markdown",
   "metadata": {},
   "source": [
    "### *args and **kwargs"
   ]
  },
  {
   "cell_type": "code",
   "execution_count": 48,
   "metadata": {},
   "outputs": [
    {
     "name": "stdout",
     "output_type": "stream",
     "text": [
      "[1, 2, 3]\n",
      "[1, 2, 3]\n",
      "[4, 5, 6]\n"
     ]
    }
   ],
   "source": [
    "def myFun(*args):\n",
    "    for arg in args:\n",
    "        print (arg)\n",
    "\n",
    "l = [1,2,3]\n",
    "myFun(l)\n",
    "l1 = [1,2,3]\n",
    "l2 = [4,5,6]\n",
    "myFun(l1, l2)"
   ]
  },
  {
   "cell_type": "code",
   "execution_count": 50,
   "metadata": {},
   "outputs": [
    {
     "name": "stdout",
     "output_type": "stream",
     "text": [
      "first == Livermore\n",
      "mid == High\n",
      "last == School\n"
     ]
    }
   ],
   "source": [
    "def myFun(**kwargs):\n",
    "\tfor key, value in kwargs.items():\n",
    "\t\tprint (\"%s == %s\" %(key, value))\n",
    "\n",
    "\n",
    "myFun(first ='Livermore', mid ='High', last='School')\n"
   ]
  },
  {
   "cell_type": "code",
   "execution_count": 11,
   "metadata": {},
   "outputs": [
    {
     "name": "stdout",
     "output_type": "stream",
     "text": [
      "Livermore\n",
      "mid == High\n",
      "last == School\n",
      "Livermore\n",
      "mid == High\n",
      "last == School\n"
     ]
    }
   ],
   "source": [
    "def myFun(first, **kwargs):\n",
    "\tprint (first)\n",
    "\tfor key, value in kwargs.items():\n",
    "\t\tprint (\"%s == %s\" %(key, value))\n",
    "\n",
    "\n",
    "myFun('Livermore', mid ='High', last='School')\n",
    "\n",
    "# Or\n",
    "kwargs = {'mid':'High', 'last':'School'}\n",
    "myFun('Livermore',**kwargs)\n",
    "\n"
   ]
  },
  {
   "cell_type": "code",
   "execution_count": 9,
   "metadata": {},
   "outputs": [
    {
     "name": "stdout",
     "output_type": "stream",
     "text": [
      "arg1: Livermore\n",
      "arg2: High\n",
      "arg3: School\n",
      "arg1: Livermore\n",
      "arg2: High\n",
      "arg3: School\n",
      "arg1: Livermore\n",
      "arg2: High\n",
      "arg3: school\n"
     ]
    }
   ],
   "source": [
    "def myFun(arg1, arg2, arg3):\n",
    "\tprint(\"arg1:\", arg1)\n",
    "\tprint(\"arg2:\", arg2)\n",
    "\tprint(\"arg3:\", arg3)\n",
    "\t\n",
    "args = (\"Livermore\", \"High\", \"School\")\n",
    "myFun(*args)\n",
    "\n",
    "kwargs = {\"arg1\" : \"Livermore\", \"arg2\" : \"High\", \"arg3\" : \"School\"}\n",
    "myFun(**kwargs)\n",
    "\n",
    "myFun(arg1=\"Livermore\", arg2=\"High\", arg3=\"school\")\n"
   ]
  },
  {
   "cell_type": "markdown",
   "metadata": {},
   "source": [
    "<style>\n",
    "\tp {\n",
    "\t\t--background-color: grey;\n",
    "\t\tcolor: white;\n",
    "\t\tborder: 3px solid grey\n",
    "\n",
    "\t}\n",
    "</style>\n",
    "\n",
    "<p> Using the arbitrary arguments to save the returned value</p>\n",
    "\n"
   ]
  },
  {
   "cell_type": "code",
   "execution_count": 12,
   "metadata": {},
   "outputs": [
    {
     "name": "stdout",
     "output_type": "stream",
     "text": [
      "2\n",
      "6\n",
      "[4]\n"
     ]
    }
   ],
   "source": [
    "def retEven(lst):\n",
    "\tevenlst = []\n",
    "\tfor v in lst:\n",
    "\t\tif v % 2 == 0:\n",
    "\t\t\tevenlst.append(v)\n",
    "\treturn evenlst\n",
    "\n",
    "lst = [1,2,3,4,5,6]\n",
    "first, *others, last = retEven(lst)\n",
    "print (first)\n",
    "print (last)\n",
    "print (others)\n"
   ]
  },
  {
   "cell_type": "markdown",
   "metadata": {},
   "source": [
    "<style>\n",
    "\th1 {\n",
    "\t\tbackground-color: grey;\n",
    "\t\tcolor: Yellow;\n",
    "\t\tborder: 3px solid grey;\n",
    "\t\t-- font-size: xx-large; \n",
    "\t}\n",
    "\tp {\n",
    "\t\tbackground-color: grey;\n",
    "\t\tcolor: white;\n",
    "\t\tborder: 3px solid grey;\n",
    "\t\tfont-size: xx-large\n",
    "\t}\n",
    "</style>\n",
    "<p> Example: *args </p>\n"
   ]
  },
  {
   "cell_type": "code",
   "execution_count": 2,
   "metadata": {},
   "outputs": [
    {
     "name": "stdout",
     "output_type": "stream",
     "text": [
      "('Python Programming',)\n",
      "Python Programming ([1, 2, 3, 4, 5],)\n",
      "[1, 2, 3, 4, 5] "
     ]
    }
   ],
   "source": [
    "\n",
    "def printstring(*string):\n",
    "\tprint (string)\n",
    "\tfor v in string:\n",
    "\t\tprint (v, end = ' ')\n",
    "\n",
    "\tprint ()\n",
    "\n",
    "stringvalue = \"Python Programming\"\n",
    "printstring(stringvalue)\n",
    "\n",
    "integerlist = [1,2,3,4,5]\n",
    "printstring(integerlist)"
   ]
  },
  {
   "cell_type": "code",
   "execution_count": 17,
   "metadata": {},
   "outputs": [
    {
     "name": "stdout",
     "output_type": "stream",
     "text": [
      "Python Programming\n",
      "P\n",
      "y\n",
      "t\n",
      "h\n",
      "o\n",
      "n\n",
      " \n",
      "P\n",
      "r\n",
      "o\n",
      "g\n",
      "r\n",
      "a\n",
      "m\n",
      "m\n",
      "i\n",
      "n\n",
      "g\n",
      "[1, 2, 3, 4, 5]\n",
      "1\n",
      "2\n",
      "3\n",
      "4\n",
      "5\n"
     ]
    }
   ],
   "source": [
    "\n",
    "def printstring(string):\n",
    "\tprint (string)\n",
    "\tfor v in string:\n",
    "\t\tprint (v)\n",
    "\n",
    "stringvalue = \"Python Programming\"\n",
    "printstring(stringvalue)\n",
    "\n",
    "\n",
    "integerlist = [1,2,3,4,5]\n",
    "printstring(integerlist)\n"
   ]
  },
  {
   "cell_type": "markdown",
   "metadata": {},
   "source": [
    "<style>\n",
    "\th1 {\n",
    "\t\tbackground-color: grey;\n",
    "\t\tcolor: Yellow;\n",
    "\t\tborder: 3px solid grey;\n",
    "\t\t-- font-size: xx-large; \n",
    "\t}\n",
    "\tp {\n",
    "\t\tbackground-color: grey;\n",
    "\t\tcolor: white;\n",
    "\t\tborder: 3px solid grey;\n",
    "\t}\n",
    "</style>\n",
    "<h1 font-size:40px> Yield </h1>\n",
    "\n"
   ]
  },
  {
   "cell_type": "markdown",
   "metadata": {},
   "source": [
    "<style>\n",
    "\tp {\n",
    "\t\tbackground-color: black;\n",
    "\t\tcolor: white;\n",
    "\t\tborder: 1px solid grey;\n",
    "\t\tfont-size: 30px;\n",
    "\t}\n",
    "</style>\n",
    "\n",
    "<p> Iterator </p> \n",
    "\n"
   ]
  },
  {
   "cell_type": "code",
   "execution_count": 9,
   "metadata": {},
   "outputs": [
    {
     "name": "stdout",
     "output_type": "stream",
     "text": [
      "10 20 30 \n",
      "10\n",
      "20\n",
      "30\n",
      "10\n",
      "20\n",
      "30\n",
      "Stop Iteration\n"
     ]
    }
   ],
   "source": [
    "\n",
    "mytuple = (10, 20, 30)\n",
    "myiterator = iter(mytuple)\n",
    "for i in myiterator:\n",
    "\tprint (i, end=' ')\n",
    "print ()\n",
    "\n",
    "mytuple = (10, 20, 30)\n",
    "myiterator = iter(mytuple)\n",
    "value = next(myiterator)\n",
    "value = next(myiterator)\n",
    "value = next(myiterator)\n",
    "print (value)\n",
    "\n",
    "myiterator = iter(mytuple)\n",
    "while True:\n",
    "\ttry:\n",
    "\t\tvalue = next(myiterator)\n",
    "\texcept StopIteration:\n",
    "\t\tprint ('Stop Iteration')\n",
    "\t\tbreak\n",
    "\telse:\n",
    "\t\tprint (value)\n"
   ]
  },
  {
   "cell_type": "code",
   "execution_count": null,
   "metadata": {},
   "outputs": [],
   "source": []
  },
  {
   "cell_type": "markdown",
   "metadata": {},
   "source": [
    "<style>\n",
    "\tp {\n",
    "\t\t--background-color: grey;\n",
    "\t\tcolor: white;\n",
    "\t\tborder: 3px solid grey\n",
    "\n",
    "\t}\n",
    "</style>\n",
    "\n",
    "<p> Example of yield statement </p>\n",
    "<p> Make a function to return the even number in the list </p>\n",
    "\n"
   ]
  },
  {
   "cell_type": "code",
   "execution_count": 11,
   "metadata": {},
   "outputs": [
    {
     "name": "stdout",
     "output_type": "stream",
     "text": [
      "0 --\n",
      "2\n",
      "4\n",
      "6\n",
      "8\n"
     ]
    }
   ],
   "source": [
    "def findEvenNumber(lst):\n",
    "\tfor v in lst:\n",
    "\t\tif ( v % 2 == 0):\n",
    "\t\t\tyield v\n",
    "\n",
    "\n",
    "if __name__ == '__main__':\n",
    "\tmygen = findEvenNumber(range(10))\n",
    "\tval = next(mygen)\n",
    "\tprint (val, '--')\n",
    "\tfor val in mygen:\n",
    "\t\tprint (val)\n"
   ]
  },
  {
   "cell_type": "markdown",
   "metadata": {},
   "source": [
    "<style>\n",
    "\tp {\n",
    "\t\t--background-color: grey;\n",
    "\t\tcolor: white;\n",
    "\t\tborder: 3px solid grey\n",
    "\n",
    "\t}\n",
    "</style>\n",
    "\n",
    "<p> Make a function to return the generator for the Fibonacci number </p> \n",
    "\n"
   ]
  },
  {
   "cell_type": "code",
   "execution_count": 20,
   "metadata": {},
   "outputs": [
    {
     "name": "stdout",
     "output_type": "stream",
     "text": [
      "0\n",
      "1\n"
     ]
    }
   ],
   "source": [
    "\n",
    "def fibo(N):\n",
    "\tn1, n2 = 0, 1\n",
    "\ti = 0\n",
    "\twhile ( i <= N):\n",
    "\t\tyield n1\n",
    "\t\tn3 = n1 + n2\n",
    "\t\tn1 = n2\t\n",
    "\t\tn2 = n3\n",
    "\t\ti += 1\n",
    "\n",
    "gen = fibo(1)\n",
    "for v in gen:\n",
    "\tprint (v)\n"
   ]
  },
  {
   "cell_type": "markdown",
   "metadata": {},
   "source": [
    "<style>\n",
    "\th1 {\n",
    "\t\tbackground-color: grey;\n",
    "\t\tcolor: Yellow;\n",
    "\t\tborder: 3px solid grey;\n",
    "\t\t-- font-size: xx-large; \n",
    "\t}\n",
    "\tp {\n",
    "\t\tbackground-color: grey;\n",
    "\t\tcolor: white;\n",
    "\t\tborder: 3px solid grey;\n",
    "\t\tfont-size: xx-large\n",
    "\t}\n",
    "</style>\n",
    "<p> Example: yield </p>\n"
   ]
  },
  {
   "cell_type": "code",
   "execution_count": 22,
   "metadata": {},
   "outputs": [
    {
     "name": "stdout",
     "output_type": "stream",
     "text": [
      "P, y, t, h, n,  , P, r, g, r, m, m, n, g, "
     ]
    }
   ],
   "source": [
    "\n",
    "def consonant(string):\n",
    "\tvowels = ['a', 'e', 'i','o', 'u']\n",
    "\tfor v in string:\n",
    "\t\tif v not in vowels:\n",
    "\t\t\tyield v\n",
    "\n",
    "\n",
    "strval = 'Python Programming'\n",
    "for v in consonant(strval):\n",
    "\tprint (v, end=', ' )"
   ]
  },
  {
   "cell_type": "markdown",
   "metadata": {},
   "source": [
    "<style>\n",
    "\th1 {\n",
    "\t\tbackground-color: grey;\n",
    "\t\tcolor: Yellow;\n",
    "\t\tborder: 3px solid grey;\n",
    "\t\t-- font-size: xx-large; \n",
    "\t}\n",
    "\tp {\n",
    "\t\tbackground-color: grey;\n",
    "\t\tcolor: white;\n",
    "\t\tborder: 3px solid grey;\n",
    "\t}\n",
    "</style>\n",
    "<h1 font-size:40px> Lambda </h1>\n",
    "\n"
   ]
  },
  {
   "cell_type": "code",
   "execution_count": 2,
   "metadata": {},
   "outputs": [
    {
     "name": "stdout",
     "output_type": "stream",
     "text": [
      "30\n"
     ]
    }
   ],
   "source": [
    "\n",
    "lfn = lambda x : x + 10\n",
    "\n",
    "a = lfn(20)\n",
    "print (a)"
   ]
  },
  {
   "cell_type": "markdown",
   "metadata": {},
   "source": [
    "### Lambda that returns x squared"
   ]
  },
  {
   "cell_type": "code",
   "execution_count": 3,
   "metadata": {},
   "outputs": [
    {
     "name": "stdout",
     "output_type": "stream",
     "text": [
      "100\n"
     ]
    }
   ],
   "source": [
    "squared = lambda x : x * x\n",
    "\n",
    "print (squared(10))"
   ]
  },
  {
   "cell_type": "markdown",
   "metadata": {},
   "source": [
    "### Lambda that returns a boolean as a result of x > y "
   ]
  },
  {
   "cell_type": "code",
   "execution_count": 5,
   "metadata": {},
   "outputs": [
    {
     "name": "stdout",
     "output_type": "stream",
     "text": [
      "False\n",
      "True\n"
     ]
    }
   ],
   "source": [
    "greater = lambda x, y : x > y \n",
    "\n",
    "print (greater(10, 20))\n",
    "print (greater(20, 10))\n"
   ]
  },
  {
   "cell_type": "markdown",
   "metadata": {},
   "source": [
    "### Function that returns a lambda "
   ]
  },
  {
   "cell_type": "code",
   "execution_count": 1,
   "metadata": {},
   "outputs": [
    {
     "name": "stdout",
     "output_type": "stream",
     "text": [
      "200\n",
      "400\n"
     ]
    }
   ],
   "source": [
    "def retlam( value):\n",
    "\treturn lambda parameter : parameter * value\n",
    "\n",
    "mylambda = retlam(10)\n",
    "print (mylambda(20))\n",
    "\n",
    "mylambda = retlam(20)\n",
    "print (mylambda(20))"
   ]
  },
  {
   "cell_type": "markdown",
   "metadata": {},
   "source": [
    "### Lambda Examples "
   ]
  },
  {
   "cell_type": "code",
   "execution_count": 28,
   "metadata": {},
   "outputs": [
    {
     "name": "stdout",
     "output_type": "stream",
     "text": [
      "[79, 18, 37, 28, 95]\n",
      "79\n",
      "95\n"
     ]
    }
   ],
   "source": [
    "import random\n",
    "\n",
    "lst = [ random.randint(0,100) for i in range(5)]\n",
    "print (lst)\n",
    "\n",
    "fmin = lambda x : (v for v in x if v > 50)\n",
    "\n",
    "for v in fmin(lst):\n",
    "\tprint (v)"
   ]
  },
  {
   "cell_type": "code",
   "execution_count": 3,
   "metadata": {},
   "outputs": [
    {
     "name": "stdout",
     "output_type": "stream",
     "text": [
      "20\n"
     ]
    }
   ],
   "source": [
    "gr = lambda x,y: x if x > y else y\n",
    "print (gr(10,20))\n"
   ]
  }
 ],
 "metadata": {
  "interpreter": {
   "hash": "a614fddea9d37e019a720cc724ab725ff28be4e0e64e91a691a8738e1909110d"
  },
  "kernelspec": {
   "display_name": "Python 3.9.7 ('base')",
   "language": "python",
   "name": "python3"
  },
  "language_info": {
   "codemirror_mode": {
    "name": "ipython",
    "version": 3
   },
   "file_extension": ".py",
   "mimetype": "text/x-python",
   "name": "python",
   "nbconvert_exporter": "python",
   "pygments_lexer": "ipython3",
   "version": "3.9.7"
  },
  "orig_nbformat": 4
 },
 "nbformat": 4,
 "nbformat_minor": 2
}
