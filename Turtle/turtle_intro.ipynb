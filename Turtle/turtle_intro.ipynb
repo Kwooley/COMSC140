{
 "cells": [
  {
   "cell_type": "code",
   "execution_count": 2,
   "metadata": {},
   "outputs": [],
   "source": [
    "import turtle\n",
    "turtle.clear()\n",
    "turtle.pencolor('red')\n",
    "turtle.pensize(2)\n",
    "turtle.circle(100)\n",
    "\n"
   ]
  },
  {
   "cell_type": "code",
   "execution_count": 5,
   "metadata": {},
   "outputs": [],
   "source": [
    "turtle.clear()\n",
    "turtle.setposition(0,0)\n",
    "turtle.forward(100)\n",
    "turtle.left(90)\n",
    "turtle.forward(100)\n",
    "turtle.left(90)\n",
    "turtle.forward(100)\n",
    "turtle.left(90)\n",
    "turtle.forward(100)\n",
    "turtle.left(90)\n"
   ]
  },
  {
   "cell_type": "code",
   "execution_count": 8,
   "metadata": {},
   "outputs": [],
   "source": [
    "import turtle\n",
    "turtle.clear()\n",
    "turtle.colormode(255)\n",
    "turtle.color(150,100,100)\n",
    "turtle.pendown()\n",
    "turtle.fd(200)\n",
    "turtle.left(170)\n",
    "turtle.fd(200)\n",
    "turtle.left(170)\n",
    "turtle.fd(200)\n",
    "turtle.left(170)\n",
    "turtle.fd(200)\n",
    "turtle.left(170)\n",
    "\n",
    "# turtle.exitonclick()\n",
    "# turtle.done()\n"
   ]
  },
  {
   "cell_type": "code",
   "execution_count": null,
   "metadata": {},
   "outputs": [],
   "source": [
    "from turtle import *\n",
    "\n",
    "turtle.clear()\n",
    "turtle.setposition(0,0)\n",
    "color('red', 'yellow')\n",
    "begin_fill()\n",
    "while (1):\n",
    "\tforward(200)\n",
    "\tleft(170)\n",
    "\tif abs(pos()) < 1:\n",
    "\t\tbreak\n",
    "end_fill()\n",
    "done()\n",
    "# mainloop()\n"
   ]
  },
  {
   "cell_type": "code",
   "execution_count": null,
   "metadata": {},
   "outputs": [],
   "source": [
    "import turtle\n",
    "turtle.clear()\n",
    "turtle.penup()\n",
    "turtle.goto(0,0)\n",
    "turtle.begin_fill()\n",
    "turtle.color('blue')\n",
    "# print (turtle.pos())\n",
    "turtle.circle(100)\n",
    "turtle.end_fill()\n",
    "\n",
    "turtle.colormode(255)\n",
    "turtle.color(190, 200, 150)\n",
    "turtle.pencolor(240, 160, 80)\n",
    "\n",
    "turtle.penup()\n",
    "turtle.goto(-40,100)\n",
    "turtle.begin_fill()\n",
    "turtle.circle(50)\n",
    "turtle.end_fill()\n",
    "\n",
    "# turtle.setposition(-130,100)\n",
    "# turtle.right(45)\n",
    "# turtle.fd(200)\n",
    "# turtle.setposition(150,100)\n",
    "turtle.penup()\n",
    "turtle.goto(140,100)\n",
    "turtle.begin_fill()\n",
    "turtle.circle(50)\n",
    "turtle.end_fill()"
   ]
  },
  {
   "cell_type": "code",
   "execution_count": 1,
   "metadata": {},
   "outputs": [
    {
     "name": "stdout",
     "output_type": "stream",
     "text": [
      "EVENTLOOP\n"
     ]
    }
   ],
   "source": [
    "#!/usr/bin/env python3\n",
    "\"\"\"       turtle-example-suite:\n",
    "\n",
    "            tdemo_paint.py\n",
    "\n",
    "A simple  event-driven paint program\n",
    "\n",
    "- left mouse button moves turtle\n",
    "- middle mouse button changes color\n",
    "- right mouse button toggles between pen up\n",
    "(no line drawn when the turtle moves) and\n",
    "pen down (line is drawn). If pen up follows\n",
    "at least two pen-down moves, the polygon that\n",
    "includes the starting point is filled.\n",
    " -------------------------------------------\n",
    " Play around by clicking into the canvas\n",
    " using all three mouse buttons.\n",
    " -------------------------------------------\n",
    "          To exit press STOP button\n",
    " -------------------------------------------\n",
    "\"\"\"\n",
    "from turtle import *\n",
    "\n",
    "def switchupdown(x=0, y=0):\n",
    "    if pen()[\"pendown\"]:\n",
    "        end_fill()\n",
    "        up()\n",
    "    else:\n",
    "        down()\n",
    "        begin_fill()\n",
    "\n",
    "def changecolor(x=0, y=0):\n",
    "    global colors\n",
    "    colors = colors[1:]+colors[:1]\n",
    "    color(colors[0])\n",
    "\n",
    "def main():\n",
    "    global colors\n",
    "    shape(\"circle\")\n",
    "    resizemode(\"user\")\n",
    "    shapesize(.5)\n",
    "    width(3)\n",
    "    colors=[\"red\", \"green\", \"blue\", \"yellow\"]\n",
    "    color(colors[0])\n",
    "    switchupdown()\n",
    "    onscreenclick(goto,1)\n",
    "    onscreenclick(changecolor,2)\n",
    "    onscreenclick(switchupdown,3)\n",
    "    return \"EVENTLOOP\"\n",
    "\n",
    "if __name__ == \"__main__\":\n",
    "    msg = main()\n",
    "    print(msg)\n",
    "    mainloop()\n"
   ]
  }
 ],
 "metadata": {
  "interpreter": {
   "hash": "a614fddea9d37e019a720cc724ab725ff28be4e0e64e91a691a8738e1909110d"
  },
  "kernelspec": {
   "display_name": "Python 3.9.7 64-bit ('base': conda)",
   "language": "python",
   "name": "python3"
  },
  "language_info": {
   "codemirror_mode": {
    "name": "ipython",
    "version": 3
   },
   "file_extension": ".py",
   "mimetype": "text/x-python",
   "name": "python",
   "nbconvert_exporter": "python",
   "pygments_lexer": "ipython3",
   "version": "3.9.7"
  },
  "orig_nbformat": 4
 },
 "nbformat": 4,
 "nbformat_minor": 2
}
