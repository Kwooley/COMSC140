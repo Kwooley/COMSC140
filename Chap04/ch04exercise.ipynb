{
 "cells": [
  {
   "cell_type": "markdown",
   "metadata": {},
   "source": [
    "<a href=\"https://docs.google.com/presentation/d/1u2gNki-dG6j063ahUpGbi3e45mcxWhDvPZaQnRAffbY/edit?usp=sharing\" target=\"_blank\">\n",
    "<img src=\"https://nimbus-screenshots.s3.amazonaws.com/s/85a61d1e5ea3b6f4e340944f58844dd2.png\" width=640>\n",
    "</a>"
   ]
  },
  {
   "cell_type": "markdown",
   "metadata": {},
   "source": []
  },
  {
   "cell_type": "markdown",
   "metadata": {},
   "source": [
    "***\n",
    "## <p style=\"background-color: grey; color: white\">  ◼️ More while loop exercies</p>"
   ]
  },
  {
   "cell_type": "markdown",
   "metadata": {},
   "source": [
    "### <strong><b><mark style=\"color: white; background-color: green\"> Exercise 5: </b></strong> how to repeat while loop a certain number of times"
   ]
  },
  {
   "cell_type": "code",
   "execution_count": null,
   "metadata": {},
   "outputs": [
    {
     "name": "stdout",
     "output_type": "stream",
     "text": [
      "0\t1\t2\t3\t4\t5\t6\t7\t8\t9\t"
     ]
    }
   ],
   "source": [
    "i = 0\n",
    "while ( i<10):\n",
    "\tprint (i, end='\\t')\n",
    "\ti += 1\n"
   ]
  },
  {
   "cell_type": "markdown",
   "metadata": {},
   "source": [
    "\n",
    "### <strong><b><mark style=\"color: white; background-color: green\"> Exercise 6: </b></strong> How to exit while loop on user input"
   ]
  },
  {
   "cell_type": "code",
   "execution_count": null,
   "metadata": {},
   "outputs": [
    {
     "name": "stdout",
     "output_type": "stream",
     "text": [
      "a b d c d e "
     ]
    }
   ],
   "source": [
    "user_input = input('Enter your character')\n",
    "while ( user_input != 'q'):\n",
    "\tprint (user_input, end=' ')\n",
    "\tuser_input = input('Enter your character')\n"
   ]
  },
  {
   "cell_type": "markdown",
   "metadata": {},
   "source": [
    "\n",
    "### <strong><b><mark style=\"color: white; background-color: green\"> Exercise 7: </b></strong> : Using the while loop with a flag\n",
    "\n",
    "##### Make a while loop that runs unti the current random number is greater than or equal to the previous random number\n"
   ]
  },
  {
   "cell_type": "code",
   "execution_count": null,
   "metadata": {},
   "outputs": [
    {
     "name": "stdout",
     "output_type": "stream",
     "text": [
      " The previous number is 82 and the next number is 26\n",
      " The previous number is 82 and the next number is 30\n",
      " The previous number is 82 and the next number is 75\n",
      " The previous number is 82 and the next number is 59\n",
      " The previous number is 82 and the next number is 82\n",
      " The previous number is 82 and the next number is 75\n",
      " The previous number is 82 and the next number is 98\n",
      "The loop will stop since the next 98 is greater than 82\n"
     ]
    }
   ],
   "source": [
    "import random\n",
    "prev = random.randint(0, 100)\n",
    "flag = 1\n",
    "while (flag):\n",
    "\tnext = random.randint(0,100)\n",
    "\tprint (\" The previous number is {0} and the next number is {1}\".format(prev, next))\n",
    "\tif ( prev <= next ):\n",
    "\t\tprint (\"The loop will stop since the next {1} is greater than {0}\".format(prev, next))\n",
    "\t\tflag = 0"
   ]
  },
  {
   "cell_type": "markdown",
   "metadata": {},
   "source": [
    "\n",
    "### <strong><b><mark style=\"color: white; background-color: green\"> Exercise 8: </b></strong> How to use while loop with multiple conditions \n",
    "\n",
    "##### Make a program that take the user input between 0 and 100. If the input is out of range, take the input again\n"
   ]
  },
  {
   "cell_type": "code",
   "execution_count": null,
   "metadata": {},
   "outputs": [
    {
     "name": "stdout",
     "output_type": "stream",
     "text": [
      "Your number should be between 0 and 100\n",
      " Your number is 10\n"
     ]
    }
   ],
   "source": [
    "\n",
    "number = int(input('Enter your number'))\n",
    "\n",
    "while number < 0 or number > 100:\n",
    "\tprint ('Your number should be between 0 and 100')\n",
    "\tnumber = int(input('Enter your number'))\n",
    "\n",
    "print (\"Your number is\", number)\n"
   ]
  },
  {
   "cell_type": "markdown",
   "metadata": {},
   "source": [
    "### <strong><b><mark style=\"color: white; background-color: green\"> Exercise 9: </b></strong> When to use the break in a while loop \n",
    "\n",
    "#### Make a program that take the user input between 0 and 100. If the input is out of range, take the input again ( The same program as Exercise 7)\n"
   ]
  },
  {
   "cell_type": "code",
   "execution_count": null,
   "metadata": {},
   "outputs": [
    {
     "name": "stdout",
     "output_type": "stream",
     "text": [
      " The previous number is 80 and the next number is 24\n",
      " The previous number is 80 and the next number is 67\n",
      " The previous number is 80 and the next number is 72\n",
      " The previous number is 80 and the next number is 91\n",
      "The loop will stop since the next 91 is greater than 80\n"
     ]
    }
   ],
   "source": [
    "import random\n",
    "prev = random.randint(0, 100)\n",
    "while True:\n",
    "\tnext = random.randint(0,100)\n",
    "\tprint (\" The previous number is {0} and the next number is {1}\".format(prev, next))\n",
    "\tif ( prev <= next ):\n",
    "\t\tprint (\"The loop will stop since the next {1} is greater than {0}\".format(prev, next))\n",
    "\t\tbreak\n",
    "else:\n",
    "\tprint (\"This Never be executed\")\n",
    "\n"
   ]
  },
  {
   "cell_type": "markdown",
   "metadata": {},
   "source": [
    "### <strong><b><mark style=\"color: white; background-color: green\"> Exercise 10: </b></strong> How to use the break with a <font color='yellow'> while </font> and <font color='yellow'> else </font> condition in Python \n",
    "\n",
    "<small> <code>\n",
    "Make a program that generates 10 random numbers between 0 and 100. <br>\n",
    "Within the loop, when the accumulated total of generated random numbers is greater than 500,  stop the iteration and print the total and all numbers. <br>\n",
    "If the total of 10 numbers is less than or equal to 500, print the message “The total is <= 100”. <br>\n",
    "</small></code>"
   ]
  },
  {
   "cell_type": "code",
   "execution_count": null,
   "metadata": {},
   "outputs": [
    {
     "name": "stdout",
     "output_type": "stream",
     "text": [
      "generated random number\n",
      "39 88 89 27 30 23 81 20 28 66 \n",
      " The total 491 is less than 500 \n"
     ]
    }
   ],
   "source": [
    "\n",
    "import random\n",
    "\n",
    "sum = 0\n",
    "i = 0 \n",
    "print ('generated random number')\n",
    "while ( i < 10):\n",
    "\trdnum = random.randint(0,100)\n",
    "\tprint (rdnum, end=' ')\n",
    "\tsum += rdnum\n",
    "\tif ( sum > 500):\n",
    "\t\tprint ('\\n The total is {0}'.format(sum))\n",
    "\t\tbreak\n",
    "\ti += 1\n",
    "else:\n",
    "\tprint ('\\n The total {0} is less than 500 '.format(sum) )\n",
    "\n"
   ]
  }
 ],
 "metadata": {
  "interpreter": {
   "hash": "a614fddea9d37e019a720cc724ab725ff28be4e0e64e91a691a8738e1909110d"
  },
  "kernelspec": {
   "display_name": "Python 3.9.7 64-bit ('base': conda)",
   "language": "python",
   "name": "python3"
  },
  "language_info": {
   "codemirror_mode": {
    "name": "ipython",
    "version": 3
   },
   "file_extension": ".py",
   "mimetype": "text/x-python",
   "name": "python",
   "nbconvert_exporter": "python",
   "pygments_lexer": "ipython3",
   "version": "3.9.7"
  },
  "orig_nbformat": 4
 },
 "nbformat": 4,
 "nbformat_minor": 2
}
