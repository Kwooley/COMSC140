{
 "cells": [
  {
   "cell_type": "markdown",
   "metadata": {},
   "source": [
    "<a href=\"https://docs.google.com/presentation/d/1u2gNki-dG6j063ahUpGbi3e45mcxWhDvPZaQnRAffbY/edit?usp=sharing\" target=\"_blank\">\n",
    "<img src=\"https://nimbus-screenshots.s3.amazonaws.com/s/85a61d1e5ea3b6f4e340944f58844dd2.png\" width=640>\n",
    "</a>"
   ]
  },
  {
   "cell_type": "markdown",
   "metadata": {},
   "source": []
  },
  {
   "cell_type": "markdown",
   "metadata": {},
   "source": [
    "***\n",
    "## <p style=\"background-color: grey; color: white\">  ◼️ More while loop exercies</p>"
   ]
  },
  {
   "cell_type": "markdown",
   "metadata": {},
   "source": [
    "### <strong><b><mark style=\"color: white; background-color: green\"> Exercise 4: </b></strong> while loop: Get the summation of all random numbers if it is odd number \n",
    "<p> Stop the while loop if we meet 5 odd numbers"
   ]
  },
  {
   "cell_type": "code",
   "execution_count": null,
   "metadata": {},
   "outputs": [],
   "source": [
    "import random\n",
    "\n",
    "cnt = total = 0 \n",
    "print (\"The odd numbers are: \", end= ' ')\n",
    "while (cnt < 5):\n",
    "\trdnum = random.randint(0, 100)\n",
    "\tif ( rdnum % 2 ):\n",
    "\t\tprint (rdnum, end=' ')\n",
    "\t\ttotal += rdnum\n",
    "\t\tcnt += 1\n",
    "print ()\n",
    "\n",
    "print ( f\"The total sum is {total}\")\n",
    "\n"
   ]
  },
  {
   "cell_type": "markdown",
   "metadata": {},
   "source": [
    "### <strong><b><mark style=\"color: white; background-color: green\"> Exercise 5: </b></strong> Sum of Random Numbers \n",
    "<p> Stop the while loop if the sum is greater than 100 "
   ]
  },
  {
   "cell_type": "code",
   "execution_count": null,
   "metadata": {},
   "outputs": [],
   "source": [
    "import random\n",
    "\n",
    "total = 0 \n",
    "print (\"The odd numbers are: \", end= ' ')\n",
    "while ( total < 100):\n",
    "\trdnum = random.randint(0, 100)\n",
    "\tprint (rdnum, end=' ')\n",
    "\ttotal += rdnum\n",
    "print ()\n",
    "\n",
    "print ( f\"The total sum is {total}\")\n",
    "\n"
   ]
  },
  {
   "cell_type": "markdown",
   "metadata": {},
   "source": [
    "### <strong><b><mark style=\"color: white; background-color: green\"> Exercise 6: </b></strong> how to repeat while loop a certain number of times"
   ]
  },
  {
   "cell_type": "code",
   "execution_count": null,
   "metadata": {},
   "outputs": [],
   "source": [
    "i = 0\n",
    "while ( i<10):\n",
    "\tprint (i, end='\\t')\n",
    "\ti += 1\n"
   ]
  },
  {
   "cell_type": "markdown",
   "metadata": {},
   "source": [
    "\n",
    "### <strong><b><mark style=\"color: white; background-color: green\"> Exercise 7: </b></strong> How to exit while loop on user input"
   ]
  },
  {
   "cell_type": "code",
   "execution_count": null,
   "metadata": {},
   "outputs": [],
   "source": [
    "user_input = input('Enter your character')\n",
    "while ( user_input != 'q'):\n",
    "\tprint (user_input, end=' ')\n",
    "\tuser_input = input('Enter your character')\n"
   ]
  },
  {
   "cell_type": "markdown",
   "metadata": {},
   "source": [
    "\n",
    "### <strong><b><mark style=\"color: white; background-color: green\"> Exercise 8: </b></strong> : Using the while loop with a flag\n",
    "\n",
    "##### Make a while loop that runs unti the current random number is greater than or equal to the previous random number\n"
   ]
  },
  {
   "cell_type": "code",
   "execution_count": null,
   "metadata": {},
   "outputs": [],
   "source": [
    "import random\n",
    "prev = random.randint(0, 100)\n",
    "flag = 1\n",
    "while (flag):\n",
    "\tnext = random.randint(0,100)\n",
    "\tprint (\" The previous number is {0} and the next number is {1}\".format(prev, next))\n",
    "\tif ( prev <= next ):\n",
    "\t\tprint (\"The loop will stop since the next {1} is greater than {0}\".format(prev, next))\n",
    "\t\tflag = 0"
   ]
  },
  {
   "cell_type": "markdown",
   "metadata": {},
   "source": [
    "\n",
    "### <strong><b><mark style=\"color: white; background-color: green\"> Exercise 9: </b></strong> How to use while loop with multiple conditions \n",
    "\n",
    "##### Make a program that take the user input between 0 and 100. If the input is out of range, take the input again\n"
   ]
  },
  {
   "cell_type": "code",
   "execution_count": null,
   "metadata": {},
   "outputs": [],
   "source": [
    "\n",
    "number = int(input('Enter your number'))\n",
    "\n",
    "while number < 0 or number > 100:\n",
    "\tprint ('Your number should be between 0 and 100')\n",
    "\tnumber = int(input('Enter your number'))\n",
    "\n",
    "print (\"Your number is\", number)\n"
   ]
  },
  {
   "cell_type": "markdown",
   "metadata": {},
   "source": [
    "\n",
    "### <strong><b><mark style=\"color: white; background-color: green\"> Exercise 10: </b></strong> Nested Loop\n",
    "\n",
    "<a href=\"https://docs.google.com/presentation/d/1EsSucBOIzXw-jKI4FNt99ZRJHdSgB2lKJgAzpN9MyxA/edit#slide=id.g112b75b649a_0_74\"> Slide Link </a>"
   ]
  },
  {
   "cell_type": "code",
   "execution_count": null,
   "metadata": {},
   "outputs": [],
   "source": [
    "\n",
    "for i in range(3):\n",
    "\tfor j in range(i+1):\n",
    "\t\tprint (f\"({i}, {j})\", end=' ')\n",
    "\tprint ()"
   ]
  },
  {
   "cell_type": "markdown",
   "metadata": {},
   "source": [
    "### <strong><b><mark style=\"color: white; background-color: green\"> Exercise 11: </b></strong> When to use the break in a while loop \n",
    "\n",
    "####\n",
    "<code> Use a while loop and  break statement </code> </br>\n",
    "<code> Get the summation of consecutive random numbers within a while loop </code> </br>\n",
    "<code> When the summation is greater than 100, we stop a while loop by using a break statement </code> </br>\n"
   ]
  },
  {
   "cell_type": "code",
   "execution_count": null,
   "metadata": {},
   "outputs": [],
   "source": [
    "\n",
    "total = 0;\n",
    "print ('Numbers are : ', end=' ')\n",
    "while ( True ):\n",
    "\tnum = int(input('Enter a number: '))\t\n",
    "\tprint (num, end=' ')\n",
    "\ttotal += num\n",
    "\tif total > 100:\n",
    "\t\tbreak\n",
    "\n",
    "print (f\"\\nTotal value is {total}\")"
   ]
  },
  {
   "cell_type": "markdown",
   "metadata": {},
   "source": [
    "### <strong><b><mark style=\"color: white; background-color: green\"> Exercise 12: </b></strong> continue / else / while \n",
    "\n",
    "####\n",
    "\n"
   ]
  },
  {
   "cell_type": "code",
   "execution_count": null,
   "metadata": {},
   "outputs": [],
   "source": [
    "prev = int(input('Enter a number')) \n",
    "print (f\"{prev} \", end= ' ')\n",
    "flag = 1\n",
    "while flag:\n",
    "\tcurrent = int(input('Enter a number')) \n",
    "\tif ( current <= prev):\n",
    "\t\tprint (f\"{current} \", end=' ')\n",
    "\t\tprev = current\n",
    "\t\tcontinue\n",
    "\telse:\n",
    "\t\tflag = 0\n",
    "else:\n",
    "\tprint (\"\\nThe end of loop\")\n",
    "\n"
   ]
  },
  {
   "cell_type": "markdown",
   "metadata": {},
   "source": [
    "## <mark style=\"background-color:teal; color:white\"> Assignment 4-1 </mark>"
   ]
  },
  {
   "cell_type": "code",
   "execution_count": 7,
   "metadata": {},
   "outputs": [
    {
     "name": "stdout",
     "output_type": "stream",
     "text": [
      "Input Characters are a and g\n",
      "a\tb\tc\td\te\tf\tg\t\n"
     ]
    }
   ],
   "source": [
    "\n",
    "while True:\n",
    "\tstart = input('Enter the starting character')\n",
    "\tend = input('Enter the end character')\n",
    "\tif start > end:\n",
    "\t\tprint ('Input Error: The first input should be less than the second one')\n",
    "\t\tcontinue\n",
    "\tif not( start.isalpha() and start.isalpha()):\n",
    "\t\tprint ('Input Error: Input should be alphabet')\n",
    "\t\tcontinue\n",
    "\tprint (f'Input Characters are {start} and {end}') \n",
    "\tbreak\n",
    "\n",
    "for c in range(ord(start), ord(end)+1):\n",
    "\tprint (chr(c), end='\\t')\n",
    "print()\n",
    "\n",
    "\n"
   ]
  }
 ],
 "metadata": {
  "interpreter": {
   "hash": "a614fddea9d37e019a720cc724ab725ff28be4e0e64e91a691a8738e1909110d"
  },
  "kernelspec": {
   "display_name": "Python 3.9.7 64-bit ('base': conda)",
   "language": "python",
   "name": "python3"
  },
  "language_info": {
   "codemirror_mode": {
    "name": "ipython",
    "version": 3
   },
   "file_extension": ".py",
   "mimetype": "text/x-python",
   "name": "python",
   "nbconvert_exporter": "python",
   "pygments_lexer": "ipython3",
   "version": "3.9.7"
  },
  "orig_nbformat": 4
 },
 "nbformat": 4,
 "nbformat_minor": 2
}
